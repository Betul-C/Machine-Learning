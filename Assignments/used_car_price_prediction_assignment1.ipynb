{
 "cells": [
  {
   "cell_type": "markdown",
   "metadata": {
    "id": "curQqdpMbV8a"
   },
   "source": [
    "<img src=\"https://miro.medium.com/max/647/1*ZOcUPrSXLYucFxppoI-dYg.png\">"
   ]
  },
  {
   "cell_type": "markdown",
   "metadata": {
    "id": "vIdfp9zXbV8w"
   },
   "source": [
    "# Problem definition\n"
   ]
  },
  {
   "cell_type": "markdown",
   "metadata": {
    "id": "_f1vwRmsbV8z"
   },
   "source": [
    "For this project we are using a car dataset, where we want to predict the selling price of car based on its certain features.\n",
    "Since we need to find the real value, with real calculation, therefore this problem is regression problem. \n",
    "We will be using linear regression to solve this problem.\n",
    "\n",
    "General equation of Multiple Linear Regression:\n",
    "$$y = \\beta_0 + \\beta_{1}x_1 + \\beta_{2}x_2 + \\beta_{3}x_3 + \\beta_{4}x_4 + ... + \\beta_{n}x_n$$"
   ]
  },
  {
   "cell_type": "markdown",
   "metadata": {
    "id": "m79bZ3ojbV82"
   },
   "source": [
    "# Libraries"
   ]
  },
  {
   "cell_type": "code",
   "execution_count": 11,
   "metadata": {
    "id": "zk6tvPRBbV84"
   },
   "outputs": [],
   "source": [
    "import pandas as pd\n",
    "import numpy as np\n",
    "import matplotlib.pyplot as plt\n",
    "import seaborn as sns"
   ]
  },
  {
   "cell_type": "markdown",
   "metadata": {
    "id": "Zu7fPn5HbV87"
   },
   "source": [
    "# Data Gathering"
   ]
  },
  {
   "cell_type": "code",
   "execution_count": 12,
   "metadata": {
    "id": "Hgyy7dkrbV89"
   },
   "outputs": [],
   "source": [
    "df = pd.read_csv(\"car_dataset.csv\")\n",
    "pd.set_option(\"display.max_columns\", None)"
   ]
  },
  {
   "cell_type": "markdown",
   "metadata": {
    "id": "EyXAGsjnbV8_"
   },
   "source": [
    "# Data Preparation"
   ]
  },
  {
   "cell_type": "code",
   "execution_count": 13,
   "metadata": {
    "id": "zoySlXabbV9B"
   },
   "outputs": [
    {
     "data": {
      "text/html": [
       "<div>\n",
       "<style scoped>\n",
       "    .dataframe tbody tr th:only-of-type {\n",
       "        vertical-align: middle;\n",
       "    }\n",
       "\n",
       "    .dataframe tbody tr th {\n",
       "        vertical-align: top;\n",
       "    }\n",
       "\n",
       "    .dataframe thead th {\n",
       "        text-align: right;\n",
       "    }\n",
       "</style>\n",
       "<table border=\"1\" class=\"dataframe\">\n",
       "  <thead>\n",
       "    <tr style=\"text-align: right;\">\n",
       "      <th></th>\n",
       "      <th>Car_Name</th>\n",
       "      <th>Year</th>\n",
       "      <th>Selling_Price</th>\n",
       "      <th>Present_Price</th>\n",
       "      <th>Kms_Driven</th>\n",
       "      <th>Fuel_Type</th>\n",
       "      <th>Seller_Type</th>\n",
       "      <th>Transmission</th>\n",
       "      <th>Owner</th>\n",
       "    </tr>\n",
       "  </thead>\n",
       "  <tbody>\n",
       "    <tr>\n",
       "      <th>0</th>\n",
       "      <td>ritz</td>\n",
       "      <td>2014</td>\n",
       "      <td>3.35</td>\n",
       "      <td>5.59</td>\n",
       "      <td>27000</td>\n",
       "      <td>Petrol</td>\n",
       "      <td>Dealer</td>\n",
       "      <td>Manual</td>\n",
       "      <td>0</td>\n",
       "    </tr>\n",
       "    <tr>\n",
       "      <th>1</th>\n",
       "      <td>sx4</td>\n",
       "      <td>2013</td>\n",
       "      <td>4.75</td>\n",
       "      <td>9.54</td>\n",
       "      <td>43000</td>\n",
       "      <td>Diesel</td>\n",
       "      <td>Dealer</td>\n",
       "      <td>Manual</td>\n",
       "      <td>0</td>\n",
       "    </tr>\n",
       "    <tr>\n",
       "      <th>2</th>\n",
       "      <td>ciaz</td>\n",
       "      <td>2017</td>\n",
       "      <td>7.25</td>\n",
       "      <td>9.85</td>\n",
       "      <td>6900</td>\n",
       "      <td>Petrol</td>\n",
       "      <td>Dealer</td>\n",
       "      <td>Manual</td>\n",
       "      <td>0</td>\n",
       "    </tr>\n",
       "    <tr>\n",
       "      <th>3</th>\n",
       "      <td>wagon r</td>\n",
       "      <td>2011</td>\n",
       "      <td>2.85</td>\n",
       "      <td>4.15</td>\n",
       "      <td>5200</td>\n",
       "      <td>Petrol</td>\n",
       "      <td>Dealer</td>\n",
       "      <td>Manual</td>\n",
       "      <td>0</td>\n",
       "    </tr>\n",
       "    <tr>\n",
       "      <th>4</th>\n",
       "      <td>swift</td>\n",
       "      <td>2014</td>\n",
       "      <td>4.60</td>\n",
       "      <td>6.87</td>\n",
       "      <td>42450</td>\n",
       "      <td>Diesel</td>\n",
       "      <td>Dealer</td>\n",
       "      <td>Manual</td>\n",
       "      <td>0</td>\n",
       "    </tr>\n",
       "  </tbody>\n",
       "</table>\n",
       "</div>"
      ],
      "text/plain": [
       "  Car_Name  Year  Selling_Price  Present_Price  Kms_Driven Fuel_Type  \\\n",
       "0     ritz  2014           3.35           5.59       27000    Petrol   \n",
       "1      sx4  2013           4.75           9.54       43000    Diesel   \n",
       "2     ciaz  2017           7.25           9.85        6900    Petrol   \n",
       "3  wagon r  2011           2.85           4.15        5200    Petrol   \n",
       "4    swift  2014           4.60           6.87       42450    Diesel   \n",
       "\n",
       "  Seller_Type Transmission  Owner  \n",
       "0      Dealer       Manual      0  \n",
       "1      Dealer       Manual      0  \n",
       "2      Dealer       Manual      0  \n",
       "3      Dealer       Manual      0  \n",
       "4      Dealer       Manual      0  "
      ]
     },
     "execution_count": 13,
     "metadata": {},
     "output_type": "execute_result"
    }
   ],
   "source": [
    "df.head()"
   ]
  },
  {
   "cell_type": "code",
   "execution_count": 14,
   "metadata": {},
   "outputs": [
    {
     "data": {
      "text/plain": [
       "(301, 9)"
      ]
     },
     "execution_count": 14,
     "metadata": {},
     "output_type": "execute_result"
    }
   ],
   "source": [
    "df.shape"
   ]
  },
  {
   "cell_type": "markdown",
   "metadata": {
    "id": "12PKntblbV9C"
   },
   "source": [
    "# Feature Engineering"
   ]
  },
  {
   "cell_type": "markdown",
   "metadata": {
    "id": "P49wP0afbV9E"
   },
   "source": [
    "<ul>Fuel_Type feature:\n",
    "    <li>Fuel is Petrol if Fuel_type_diesel = 0 ,Fuel_Type_Petrol = 1</li>\n",
    "    <li>Fuel is Diesel if Fuel_type_diesel = 1 ,Fuel_Type_Petrol = 0</li>\n",
    "    <li>Fuel is cng if Fuel_type_diesel = 0 ,Fuel_Type_Petrol = 0</li>\n",
    "   </ul>\n",
    "<ul>Transmission feature:\n",
    "    <li>transmission is manual if Transmission_Manual = 1</li> \n",
    "    <li>transmission is automatic if Transmission_Manual = 0</li></ul>\n",
    "<ul>Seller_Type feature:\n",
    "    <li>Seller_Type is Individual if Seller_Type_Individual = 1 </li> \n",
    "    <li>Seller_Type is dealer if Seller_Type_Individual = 0</li> </ul>\n",
    "    \n"
   ]
  },
  {
   "cell_type": "markdown",
   "metadata": {
    "id": "Pe9yr6oCbV9I"
   },
   "source": [
    "### Features and target variable"
   ]
  },
  {
   "cell_type": "code",
   "execution_count": 15,
   "metadata": {
    "id": "OMnKPR41bV9K"
   },
   "outputs": [
    {
     "data": {
      "text/plain": [
       "array(['Petrol', 'Diesel', 'CNG'], dtype=object)"
      ]
     },
     "execution_count": 15,
     "metadata": {},
     "output_type": "execute_result"
    }
   ],
   "source": [
    "df.Fuel_Type.unique()"
   ]
  },
  {
   "cell_type": "code",
   "execution_count": 16,
   "metadata": {},
   "outputs": [],
   "source": [
    "df1 = pd.get_dummies(df, drop_first=True) # drop_first 0 ve 1 olarak sütün sayısını fazla artırmadan "
   ]
  },
  {
   "cell_type": "code",
   "execution_count": 17,
   "metadata": {},
   "outputs": [
    {
     "data": {
      "text/html": [
       "<div>\n",
       "<style scoped>\n",
       "    .dataframe tbody tr th:only-of-type {\n",
       "        vertical-align: middle;\n",
       "    }\n",
       "\n",
       "    .dataframe tbody tr th {\n",
       "        vertical-align: top;\n",
       "    }\n",
       "\n",
       "    .dataframe thead th {\n",
       "        text-align: right;\n",
       "    }\n",
       "</style>\n",
       "<table border=\"1\" class=\"dataframe\">\n",
       "  <thead>\n",
       "    <tr style=\"text-align: right;\">\n",
       "      <th></th>\n",
       "      <th>Year</th>\n",
       "      <th>Selling_Price</th>\n",
       "      <th>Present_Price</th>\n",
       "      <th>Kms_Driven</th>\n",
       "      <th>Owner</th>\n",
       "      <th>Car_Name_Activa 3g</th>\n",
       "      <th>Car_Name_Activa 4g</th>\n",
       "      <th>Car_Name_Bajaj  ct 100</th>\n",
       "      <th>Car_Name_Bajaj Avenger 150</th>\n",
       "      <th>Car_Name_Bajaj Avenger 150 street</th>\n",
       "      <th>Car_Name_Bajaj Avenger 220</th>\n",
       "      <th>Car_Name_Bajaj Avenger 220 dtsi</th>\n",
       "      <th>Car_Name_Bajaj Avenger Street 220</th>\n",
       "      <th>Car_Name_Bajaj Discover 100</th>\n",
       "      <th>Car_Name_Bajaj Discover 125</th>\n",
       "      <th>Car_Name_Bajaj Dominar 400</th>\n",
       "      <th>Car_Name_Bajaj Pulsar  NS 200</th>\n",
       "      <th>Car_Name_Bajaj Pulsar 135 LS</th>\n",
       "      <th>Car_Name_Bajaj Pulsar 150</th>\n",
       "      <th>Car_Name_Bajaj Pulsar 220 F</th>\n",
       "      <th>Car_Name_Bajaj Pulsar NS 200</th>\n",
       "      <th>Car_Name_Bajaj Pulsar RS200</th>\n",
       "      <th>Car_Name_Hero  CBZ Xtreme</th>\n",
       "      <th>Car_Name_Hero  Ignitor Disc</th>\n",
       "      <th>Car_Name_Hero Extreme</th>\n",
       "      <th>Car_Name_Hero Glamour</th>\n",
       "      <th>Car_Name_Hero Honda CBZ extreme</th>\n",
       "      <th>Car_Name_Hero Honda Passion Pro</th>\n",
       "      <th>Car_Name_Hero Hunk</th>\n",
       "      <th>Car_Name_Hero Passion Pro</th>\n",
       "      <th>Car_Name_Hero Passion X pro</th>\n",
       "      <th>Car_Name_Hero Splender Plus</th>\n",
       "      <th>Car_Name_Hero Splender iSmart</th>\n",
       "      <th>Car_Name_Hero Super Splendor</th>\n",
       "      <th>Car_Name_Honda Activa 125</th>\n",
       "      <th>Car_Name_Honda Activa 4G</th>\n",
       "      <th>Car_Name_Honda CB Hornet 160R</th>\n",
       "      <th>Car_Name_Honda CB Shine</th>\n",
       "      <th>Car_Name_Honda CB Trigger</th>\n",
       "      <th>Car_Name_Honda CB Unicorn</th>\n",
       "      <th>Car_Name_Honda CB twister</th>\n",
       "      <th>Car_Name_Honda CBR 150</th>\n",
       "      <th>Car_Name_Honda Dream Yuga</th>\n",
       "      <th>Car_Name_Honda Karizma</th>\n",
       "      <th>Car_Name_Hyosung GT250R</th>\n",
       "      <th>Car_Name_KTM 390 Duke</th>\n",
       "      <th>Car_Name_KTM RC200</th>\n",
       "      <th>Car_Name_KTM RC390</th>\n",
       "      <th>Car_Name_Mahindra Mojo XT300</th>\n",
       "      <th>Car_Name_Royal Enfield Bullet 350</th>\n",
       "      <th>Car_Name_Royal Enfield Classic 350</th>\n",
       "      <th>Car_Name_Royal Enfield Classic 500</th>\n",
       "      <th>Car_Name_Royal Enfield Thunder 350</th>\n",
       "      <th>Car_Name_Royal Enfield Thunder 500</th>\n",
       "      <th>Car_Name_Suzuki Access 125</th>\n",
       "      <th>Car_Name_TVS Apache RTR 160</th>\n",
       "      <th>Car_Name_TVS Apache RTR 180</th>\n",
       "      <th>Car_Name_TVS Jupyter</th>\n",
       "      <th>Car_Name_TVS Sport</th>\n",
       "      <th>Car_Name_TVS Wego</th>\n",
       "      <th>Car_Name_UM Renegade Mojave</th>\n",
       "      <th>Car_Name_Yamaha FZ  v 2.0</th>\n",
       "      <th>Car_Name_Yamaha FZ 16</th>\n",
       "      <th>Car_Name_Yamaha FZ S</th>\n",
       "      <th>Car_Name_Yamaha FZ S V 2.0</th>\n",
       "      <th>Car_Name_Yamaha Fazer</th>\n",
       "      <th>Car_Name_alto 800</th>\n",
       "      <th>Car_Name_alto k10</th>\n",
       "      <th>Car_Name_amaze</th>\n",
       "      <th>Car_Name_baleno</th>\n",
       "      <th>Car_Name_brio</th>\n",
       "      <th>Car_Name_camry</th>\n",
       "      <th>Car_Name_ciaz</th>\n",
       "      <th>Car_Name_city</th>\n",
       "      <th>Car_Name_corolla</th>\n",
       "      <th>Car_Name_corolla altis</th>\n",
       "      <th>Car_Name_creta</th>\n",
       "      <th>Car_Name_dzire</th>\n",
       "      <th>Car_Name_elantra</th>\n",
       "      <th>Car_Name_eon</th>\n",
       "      <th>Car_Name_ertiga</th>\n",
       "      <th>Car_Name_etios cross</th>\n",
       "      <th>Car_Name_etios g</th>\n",
       "      <th>Car_Name_etios gd</th>\n",
       "      <th>Car_Name_etios liva</th>\n",
       "      <th>Car_Name_fortuner</th>\n",
       "      <th>Car_Name_grand i10</th>\n",
       "      <th>Car_Name_i10</th>\n",
       "      <th>Car_Name_i20</th>\n",
       "      <th>Car_Name_ignis</th>\n",
       "      <th>Car_Name_innova</th>\n",
       "      <th>Car_Name_jazz</th>\n",
       "      <th>Car_Name_land cruiser</th>\n",
       "      <th>Car_Name_omni</th>\n",
       "      <th>Car_Name_ritz</th>\n",
       "      <th>Car_Name_s cross</th>\n",
       "      <th>Car_Name_swift</th>\n",
       "      <th>Car_Name_sx4</th>\n",
       "      <th>Car_Name_verna</th>\n",
       "      <th>Car_Name_vitara brezza</th>\n",
       "      <th>Car_Name_wagon r</th>\n",
       "      <th>Car_Name_xcent</th>\n",
       "      <th>Fuel_Type_Diesel</th>\n",
       "      <th>Fuel_Type_Petrol</th>\n",
       "      <th>Seller_Type_Individual</th>\n",
       "      <th>Transmission_Manual</th>\n",
       "    </tr>\n",
       "  </thead>\n",
       "  <tbody>\n",
       "    <tr>\n",
       "      <th>252</th>\n",
       "      <td>2015</td>\n",
       "      <td>5.40</td>\n",
       "      <td>6.82</td>\n",
       "      <td>31427</td>\n",
       "      <td>0</td>\n",
       "      <td>0</td>\n",
       "      <td>0</td>\n",
       "      <td>0</td>\n",
       "      <td>0</td>\n",
       "      <td>0</td>\n",
       "      <td>0</td>\n",
       "      <td>0</td>\n",
       "      <td>0</td>\n",
       "      <td>0</td>\n",
       "      <td>0</td>\n",
       "      <td>0</td>\n",
       "      <td>0</td>\n",
       "      <td>0</td>\n",
       "      <td>0</td>\n",
       "      <td>0</td>\n",
       "      <td>0</td>\n",
       "      <td>0</td>\n",
       "      <td>0</td>\n",
       "      <td>0</td>\n",
       "      <td>0</td>\n",
       "      <td>0</td>\n",
       "      <td>0</td>\n",
       "      <td>0</td>\n",
       "      <td>0</td>\n",
       "      <td>0</td>\n",
       "      <td>0</td>\n",
       "      <td>0</td>\n",
       "      <td>0</td>\n",
       "      <td>0</td>\n",
       "      <td>0</td>\n",
       "      <td>0</td>\n",
       "      <td>0</td>\n",
       "      <td>0</td>\n",
       "      <td>0</td>\n",
       "      <td>0</td>\n",
       "      <td>0</td>\n",
       "      <td>0</td>\n",
       "      <td>0</td>\n",
       "      <td>0</td>\n",
       "      <td>0</td>\n",
       "      <td>0</td>\n",
       "      <td>0</td>\n",
       "      <td>0</td>\n",
       "      <td>0</td>\n",
       "      <td>0</td>\n",
       "      <td>0</td>\n",
       "      <td>0</td>\n",
       "      <td>0</td>\n",
       "      <td>0</td>\n",
       "      <td>0</td>\n",
       "      <td>0</td>\n",
       "      <td>0</td>\n",
       "      <td>0</td>\n",
       "      <td>0</td>\n",
       "      <td>0</td>\n",
       "      <td>0</td>\n",
       "      <td>0</td>\n",
       "      <td>0</td>\n",
       "      <td>0</td>\n",
       "      <td>0</td>\n",
       "      <td>0</td>\n",
       "      <td>0</td>\n",
       "      <td>0</td>\n",
       "      <td>0</td>\n",
       "      <td>0</td>\n",
       "      <td>1</td>\n",
       "      <td>0</td>\n",
       "      <td>0</td>\n",
       "      <td>0</td>\n",
       "      <td>0</td>\n",
       "      <td>0</td>\n",
       "      <td>0</td>\n",
       "      <td>0</td>\n",
       "      <td>0</td>\n",
       "      <td>0</td>\n",
       "      <td>0</td>\n",
       "      <td>0</td>\n",
       "      <td>0</td>\n",
       "      <td>0</td>\n",
       "      <td>0</td>\n",
       "      <td>0</td>\n",
       "      <td>0</td>\n",
       "      <td>0</td>\n",
       "      <td>0</td>\n",
       "      <td>0</td>\n",
       "      <td>0</td>\n",
       "      <td>0</td>\n",
       "      <td>0</td>\n",
       "      <td>0</td>\n",
       "      <td>0</td>\n",
       "      <td>0</td>\n",
       "      <td>0</td>\n",
       "      <td>0</td>\n",
       "      <td>0</td>\n",
       "      <td>0</td>\n",
       "      <td>0</td>\n",
       "      <td>0</td>\n",
       "      <td>0</td>\n",
       "      <td>1</td>\n",
       "      <td>0</td>\n",
       "      <td>0</td>\n",
       "    </tr>\n",
       "    <tr>\n",
       "      <th>37</th>\n",
       "      <td>2003</td>\n",
       "      <td>0.35</td>\n",
       "      <td>2.28</td>\n",
       "      <td>127000</td>\n",
       "      <td>0</td>\n",
       "      <td>0</td>\n",
       "      <td>0</td>\n",
       "      <td>0</td>\n",
       "      <td>0</td>\n",
       "      <td>0</td>\n",
       "      <td>0</td>\n",
       "      <td>0</td>\n",
       "      <td>0</td>\n",
       "      <td>0</td>\n",
       "      <td>0</td>\n",
       "      <td>0</td>\n",
       "      <td>0</td>\n",
       "      <td>0</td>\n",
       "      <td>0</td>\n",
       "      <td>0</td>\n",
       "      <td>0</td>\n",
       "      <td>0</td>\n",
       "      <td>0</td>\n",
       "      <td>0</td>\n",
       "      <td>0</td>\n",
       "      <td>0</td>\n",
       "      <td>0</td>\n",
       "      <td>0</td>\n",
       "      <td>0</td>\n",
       "      <td>0</td>\n",
       "      <td>0</td>\n",
       "      <td>0</td>\n",
       "      <td>0</td>\n",
       "      <td>0</td>\n",
       "      <td>0</td>\n",
       "      <td>0</td>\n",
       "      <td>0</td>\n",
       "      <td>0</td>\n",
       "      <td>0</td>\n",
       "      <td>0</td>\n",
       "      <td>0</td>\n",
       "      <td>0</td>\n",
       "      <td>0</td>\n",
       "      <td>0</td>\n",
       "      <td>0</td>\n",
       "      <td>0</td>\n",
       "      <td>0</td>\n",
       "      <td>0</td>\n",
       "      <td>0</td>\n",
       "      <td>0</td>\n",
       "      <td>0</td>\n",
       "      <td>0</td>\n",
       "      <td>0</td>\n",
       "      <td>0</td>\n",
       "      <td>0</td>\n",
       "      <td>0</td>\n",
       "      <td>0</td>\n",
       "      <td>0</td>\n",
       "      <td>0</td>\n",
       "      <td>0</td>\n",
       "      <td>0</td>\n",
       "      <td>0</td>\n",
       "      <td>0</td>\n",
       "      <td>0</td>\n",
       "      <td>0</td>\n",
       "      <td>0</td>\n",
       "      <td>0</td>\n",
       "      <td>0</td>\n",
       "      <td>0</td>\n",
       "      <td>0</td>\n",
       "      <td>0</td>\n",
       "      <td>0</td>\n",
       "      <td>0</td>\n",
       "      <td>0</td>\n",
       "      <td>0</td>\n",
       "      <td>0</td>\n",
       "      <td>0</td>\n",
       "      <td>0</td>\n",
       "      <td>0</td>\n",
       "      <td>0</td>\n",
       "      <td>0</td>\n",
       "      <td>0</td>\n",
       "      <td>0</td>\n",
       "      <td>0</td>\n",
       "      <td>0</td>\n",
       "      <td>0</td>\n",
       "      <td>0</td>\n",
       "      <td>0</td>\n",
       "      <td>0</td>\n",
       "      <td>0</td>\n",
       "      <td>0</td>\n",
       "      <td>0</td>\n",
       "      <td>0</td>\n",
       "      <td>0</td>\n",
       "      <td>0</td>\n",
       "      <td>0</td>\n",
       "      <td>0</td>\n",
       "      <td>0</td>\n",
       "      <td>0</td>\n",
       "      <td>0</td>\n",
       "      <td>0</td>\n",
       "      <td>0</td>\n",
       "      <td>0</td>\n",
       "      <td>1</td>\n",
       "      <td>1</td>\n",
       "      <td>1</td>\n",
       "    </tr>\n",
       "    <tr>\n",
       "      <th>153</th>\n",
       "      <td>2013</td>\n",
       "      <td>0.50</td>\n",
       "      <td>0.99</td>\n",
       "      <td>45000</td>\n",
       "      <td>0</td>\n",
       "      <td>0</td>\n",
       "      <td>0</td>\n",
       "      <td>0</td>\n",
       "      <td>0</td>\n",
       "      <td>0</td>\n",
       "      <td>0</td>\n",
       "      <td>0</td>\n",
       "      <td>0</td>\n",
       "      <td>0</td>\n",
       "      <td>0</td>\n",
       "      <td>0</td>\n",
       "      <td>0</td>\n",
       "      <td>0</td>\n",
       "      <td>0</td>\n",
       "      <td>0</td>\n",
       "      <td>1</td>\n",
       "      <td>0</td>\n",
       "      <td>0</td>\n",
       "      <td>0</td>\n",
       "      <td>0</td>\n",
       "      <td>0</td>\n",
       "      <td>0</td>\n",
       "      <td>0</td>\n",
       "      <td>0</td>\n",
       "      <td>0</td>\n",
       "      <td>0</td>\n",
       "      <td>0</td>\n",
       "      <td>0</td>\n",
       "      <td>0</td>\n",
       "      <td>0</td>\n",
       "      <td>0</td>\n",
       "      <td>0</td>\n",
       "      <td>0</td>\n",
       "      <td>0</td>\n",
       "      <td>0</td>\n",
       "      <td>0</td>\n",
       "      <td>0</td>\n",
       "      <td>0</td>\n",
       "      <td>0</td>\n",
       "      <td>0</td>\n",
       "      <td>0</td>\n",
       "      <td>0</td>\n",
       "      <td>0</td>\n",
       "      <td>0</td>\n",
       "      <td>0</td>\n",
       "      <td>0</td>\n",
       "      <td>0</td>\n",
       "      <td>0</td>\n",
       "      <td>0</td>\n",
       "      <td>0</td>\n",
       "      <td>0</td>\n",
       "      <td>0</td>\n",
       "      <td>0</td>\n",
       "      <td>0</td>\n",
       "      <td>0</td>\n",
       "      <td>0</td>\n",
       "      <td>0</td>\n",
       "      <td>0</td>\n",
       "      <td>0</td>\n",
       "      <td>0</td>\n",
       "      <td>0</td>\n",
       "      <td>0</td>\n",
       "      <td>0</td>\n",
       "      <td>0</td>\n",
       "      <td>0</td>\n",
       "      <td>0</td>\n",
       "      <td>0</td>\n",
       "      <td>0</td>\n",
       "      <td>0</td>\n",
       "      <td>0</td>\n",
       "      <td>0</td>\n",
       "      <td>0</td>\n",
       "      <td>0</td>\n",
       "      <td>0</td>\n",
       "      <td>0</td>\n",
       "      <td>0</td>\n",
       "      <td>0</td>\n",
       "      <td>0</td>\n",
       "      <td>0</td>\n",
       "      <td>0</td>\n",
       "      <td>0</td>\n",
       "      <td>0</td>\n",
       "      <td>0</td>\n",
       "      <td>0</td>\n",
       "      <td>0</td>\n",
       "      <td>0</td>\n",
       "      <td>0</td>\n",
       "      <td>0</td>\n",
       "      <td>0</td>\n",
       "      <td>0</td>\n",
       "      <td>0</td>\n",
       "      <td>0</td>\n",
       "      <td>0</td>\n",
       "      <td>0</td>\n",
       "      <td>0</td>\n",
       "      <td>0</td>\n",
       "      <td>0</td>\n",
       "      <td>0</td>\n",
       "      <td>1</td>\n",
       "      <td>1</td>\n",
       "      <td>1</td>\n",
       "    </tr>\n",
       "    <tr>\n",
       "      <th>64</th>\n",
       "      <td>2017</td>\n",
       "      <td>33.00</td>\n",
       "      <td>36.23</td>\n",
       "      <td>6000</td>\n",
       "      <td>0</td>\n",
       "      <td>0</td>\n",
       "      <td>0</td>\n",
       "      <td>0</td>\n",
       "      <td>0</td>\n",
       "      <td>0</td>\n",
       "      <td>0</td>\n",
       "      <td>0</td>\n",
       "      <td>0</td>\n",
       "      <td>0</td>\n",
       "      <td>0</td>\n",
       "      <td>0</td>\n",
       "      <td>0</td>\n",
       "      <td>0</td>\n",
       "      <td>0</td>\n",
       "      <td>0</td>\n",
       "      <td>0</td>\n",
       "      <td>0</td>\n",
       "      <td>0</td>\n",
       "      <td>0</td>\n",
       "      <td>0</td>\n",
       "      <td>0</td>\n",
       "      <td>0</td>\n",
       "      <td>0</td>\n",
       "      <td>0</td>\n",
       "      <td>0</td>\n",
       "      <td>0</td>\n",
       "      <td>0</td>\n",
       "      <td>0</td>\n",
       "      <td>0</td>\n",
       "      <td>0</td>\n",
       "      <td>0</td>\n",
       "      <td>0</td>\n",
       "      <td>0</td>\n",
       "      <td>0</td>\n",
       "      <td>0</td>\n",
       "      <td>0</td>\n",
       "      <td>0</td>\n",
       "      <td>0</td>\n",
       "      <td>0</td>\n",
       "      <td>0</td>\n",
       "      <td>0</td>\n",
       "      <td>0</td>\n",
       "      <td>0</td>\n",
       "      <td>0</td>\n",
       "      <td>0</td>\n",
       "      <td>0</td>\n",
       "      <td>0</td>\n",
       "      <td>0</td>\n",
       "      <td>0</td>\n",
       "      <td>0</td>\n",
       "      <td>0</td>\n",
       "      <td>0</td>\n",
       "      <td>0</td>\n",
       "      <td>0</td>\n",
       "      <td>0</td>\n",
       "      <td>0</td>\n",
       "      <td>0</td>\n",
       "      <td>0</td>\n",
       "      <td>0</td>\n",
       "      <td>0</td>\n",
       "      <td>0</td>\n",
       "      <td>0</td>\n",
       "      <td>0</td>\n",
       "      <td>0</td>\n",
       "      <td>0</td>\n",
       "      <td>0</td>\n",
       "      <td>0</td>\n",
       "      <td>0</td>\n",
       "      <td>0</td>\n",
       "      <td>0</td>\n",
       "      <td>0</td>\n",
       "      <td>0</td>\n",
       "      <td>0</td>\n",
       "      <td>0</td>\n",
       "      <td>0</td>\n",
       "      <td>0</td>\n",
       "      <td>0</td>\n",
       "      <td>0</td>\n",
       "      <td>0</td>\n",
       "      <td>0</td>\n",
       "      <td>1</td>\n",
       "      <td>0</td>\n",
       "      <td>0</td>\n",
       "      <td>0</td>\n",
       "      <td>0</td>\n",
       "      <td>0</td>\n",
       "      <td>0</td>\n",
       "      <td>0</td>\n",
       "      <td>0</td>\n",
       "      <td>0</td>\n",
       "      <td>0</td>\n",
       "      <td>0</td>\n",
       "      <td>0</td>\n",
       "      <td>0</td>\n",
       "      <td>0</td>\n",
       "      <td>0</td>\n",
       "      <td>0</td>\n",
       "      <td>1</td>\n",
       "      <td>0</td>\n",
       "      <td>0</td>\n",
       "      <td>0</td>\n",
       "    </tr>\n",
       "    <tr>\n",
       "      <th>195</th>\n",
       "      <td>2015</td>\n",
       "      <td>0.18</td>\n",
       "      <td>0.32</td>\n",
       "      <td>35000</td>\n",
       "      <td>0</td>\n",
       "      <td>0</td>\n",
       "      <td>0</td>\n",
       "      <td>1</td>\n",
       "      <td>0</td>\n",
       "      <td>0</td>\n",
       "      <td>0</td>\n",
       "      <td>0</td>\n",
       "      <td>0</td>\n",
       "      <td>0</td>\n",
       "      <td>0</td>\n",
       "      <td>0</td>\n",
       "      <td>0</td>\n",
       "      <td>0</td>\n",
       "      <td>0</td>\n",
       "      <td>0</td>\n",
       "      <td>0</td>\n",
       "      <td>0</td>\n",
       "      <td>0</td>\n",
       "      <td>0</td>\n",
       "      <td>0</td>\n",
       "      <td>0</td>\n",
       "      <td>0</td>\n",
       "      <td>0</td>\n",
       "      <td>0</td>\n",
       "      <td>0</td>\n",
       "      <td>0</td>\n",
       "      <td>0</td>\n",
       "      <td>0</td>\n",
       "      <td>0</td>\n",
       "      <td>0</td>\n",
       "      <td>0</td>\n",
       "      <td>0</td>\n",
       "      <td>0</td>\n",
       "      <td>0</td>\n",
       "      <td>0</td>\n",
       "      <td>0</td>\n",
       "      <td>0</td>\n",
       "      <td>0</td>\n",
       "      <td>0</td>\n",
       "      <td>0</td>\n",
       "      <td>0</td>\n",
       "      <td>0</td>\n",
       "      <td>0</td>\n",
       "      <td>0</td>\n",
       "      <td>0</td>\n",
       "      <td>0</td>\n",
       "      <td>0</td>\n",
       "      <td>0</td>\n",
       "      <td>0</td>\n",
       "      <td>0</td>\n",
       "      <td>0</td>\n",
       "      <td>0</td>\n",
       "      <td>0</td>\n",
       "      <td>0</td>\n",
       "      <td>0</td>\n",
       "      <td>0</td>\n",
       "      <td>0</td>\n",
       "      <td>0</td>\n",
       "      <td>0</td>\n",
       "      <td>0</td>\n",
       "      <td>0</td>\n",
       "      <td>0</td>\n",
       "      <td>0</td>\n",
       "      <td>0</td>\n",
       "      <td>0</td>\n",
       "      <td>0</td>\n",
       "      <td>0</td>\n",
       "      <td>0</td>\n",
       "      <td>0</td>\n",
       "      <td>0</td>\n",
       "      <td>0</td>\n",
       "      <td>0</td>\n",
       "      <td>0</td>\n",
       "      <td>0</td>\n",
       "      <td>0</td>\n",
       "      <td>0</td>\n",
       "      <td>0</td>\n",
       "      <td>0</td>\n",
       "      <td>0</td>\n",
       "      <td>0</td>\n",
       "      <td>0</td>\n",
       "      <td>0</td>\n",
       "      <td>0</td>\n",
       "      <td>0</td>\n",
       "      <td>0</td>\n",
       "      <td>0</td>\n",
       "      <td>0</td>\n",
       "      <td>0</td>\n",
       "      <td>0</td>\n",
       "      <td>0</td>\n",
       "      <td>0</td>\n",
       "      <td>0</td>\n",
       "      <td>0</td>\n",
       "      <td>0</td>\n",
       "      <td>0</td>\n",
       "      <td>0</td>\n",
       "      <td>0</td>\n",
       "      <td>0</td>\n",
       "      <td>1</td>\n",
       "      <td>1</td>\n",
       "      <td>1</td>\n",
       "    </tr>\n",
       "  </tbody>\n",
       "</table>\n",
       "</div>"
      ],
      "text/plain": [
       "     Year  Selling_Price  Present_Price  Kms_Driven  Owner  \\\n",
       "252  2015           5.40           6.82       31427      0   \n",
       "37   2003           0.35           2.28      127000      0   \n",
       "153  2013           0.50           0.99       45000      0   \n",
       "64   2017          33.00          36.23        6000      0   \n",
       "195  2015           0.18           0.32       35000      0   \n",
       "\n",
       "     Car_Name_Activa 3g  Car_Name_Activa 4g  Car_Name_Bajaj  ct 100  \\\n",
       "252                   0                   0                       0   \n",
       "37                    0                   0                       0   \n",
       "153                   0                   0                       0   \n",
       "64                    0                   0                       0   \n",
       "195                   0                   0                       1   \n",
       "\n",
       "     Car_Name_Bajaj Avenger 150  Car_Name_Bajaj Avenger 150 street  \\\n",
       "252                           0                                  0   \n",
       "37                            0                                  0   \n",
       "153                           0                                  0   \n",
       "64                            0                                  0   \n",
       "195                           0                                  0   \n",
       "\n",
       "     Car_Name_Bajaj Avenger 220  Car_Name_Bajaj Avenger 220 dtsi  \\\n",
       "252                           0                                0   \n",
       "37                            0                                0   \n",
       "153                           0                                0   \n",
       "64                            0                                0   \n",
       "195                           0                                0   \n",
       "\n",
       "     Car_Name_Bajaj Avenger Street 220  Car_Name_Bajaj Discover 100  \\\n",
       "252                                  0                            0   \n",
       "37                                   0                            0   \n",
       "153                                  0                            0   \n",
       "64                                   0                            0   \n",
       "195                                  0                            0   \n",
       "\n",
       "     Car_Name_Bajaj Discover 125  Car_Name_Bajaj Dominar 400  \\\n",
       "252                            0                           0   \n",
       "37                             0                           0   \n",
       "153                            0                           0   \n",
       "64                             0                           0   \n",
       "195                            0                           0   \n",
       "\n",
       "     Car_Name_Bajaj Pulsar  NS 200  Car_Name_Bajaj Pulsar 135 LS  \\\n",
       "252                              0                             0   \n",
       "37                               0                             0   \n",
       "153                              0                             0   \n",
       "64                               0                             0   \n",
       "195                              0                             0   \n",
       "\n",
       "     Car_Name_Bajaj Pulsar 150  Car_Name_Bajaj Pulsar 220 F  \\\n",
       "252                          0                            0   \n",
       "37                           0                            0   \n",
       "153                          0                            0   \n",
       "64                           0                            0   \n",
       "195                          0                            0   \n",
       "\n",
       "     Car_Name_Bajaj Pulsar NS 200  Car_Name_Bajaj Pulsar RS200  \\\n",
       "252                             0                            0   \n",
       "37                              0                            0   \n",
       "153                             1                            0   \n",
       "64                              0                            0   \n",
       "195                             0                            0   \n",
       "\n",
       "     Car_Name_Hero  CBZ Xtreme  Car_Name_Hero  Ignitor Disc  \\\n",
       "252                          0                            0   \n",
       "37                           0                            0   \n",
       "153                          0                            0   \n",
       "64                           0                            0   \n",
       "195                          0                            0   \n",
       "\n",
       "     Car_Name_Hero Extreme  Car_Name_Hero Glamour  \\\n",
       "252                      0                      0   \n",
       "37                       0                      0   \n",
       "153                      0                      0   \n",
       "64                       0                      0   \n",
       "195                      0                      0   \n",
       "\n",
       "     Car_Name_Hero Honda CBZ extreme  Car_Name_Hero Honda Passion Pro  \\\n",
       "252                                0                                0   \n",
       "37                                 0                                0   \n",
       "153                                0                                0   \n",
       "64                                 0                                0   \n",
       "195                                0                                0   \n",
       "\n",
       "     Car_Name_Hero Hunk  Car_Name_Hero Passion Pro  \\\n",
       "252                   0                          0   \n",
       "37                    0                          0   \n",
       "153                   0                          0   \n",
       "64                    0                          0   \n",
       "195                   0                          0   \n",
       "\n",
       "     Car_Name_Hero Passion X pro  Car_Name_Hero Splender Plus  \\\n",
       "252                            0                            0   \n",
       "37                             0                            0   \n",
       "153                            0                            0   \n",
       "64                             0                            0   \n",
       "195                            0                            0   \n",
       "\n",
       "     Car_Name_Hero Splender iSmart  Car_Name_Hero Super Splendor  \\\n",
       "252                              0                             0   \n",
       "37                               0                             0   \n",
       "153                              0                             0   \n",
       "64                               0                             0   \n",
       "195                              0                             0   \n",
       "\n",
       "     Car_Name_Honda Activa 125  Car_Name_Honda Activa 4G  \\\n",
       "252                          0                         0   \n",
       "37                           0                         0   \n",
       "153                          0                         0   \n",
       "64                           0                         0   \n",
       "195                          0                         0   \n",
       "\n",
       "     Car_Name_Honda CB Hornet 160R  Car_Name_Honda CB Shine  \\\n",
       "252                              0                        0   \n",
       "37                               0                        0   \n",
       "153                              0                        0   \n",
       "64                               0                        0   \n",
       "195                              0                        0   \n",
       "\n",
       "     Car_Name_Honda CB Trigger  Car_Name_Honda CB Unicorn  \\\n",
       "252                          0                          0   \n",
       "37                           0                          0   \n",
       "153                          0                          0   \n",
       "64                           0                          0   \n",
       "195                          0                          0   \n",
       "\n",
       "     Car_Name_Honda CB twister  Car_Name_Honda CBR 150  \\\n",
       "252                          0                       0   \n",
       "37                           0                       0   \n",
       "153                          0                       0   \n",
       "64                           0                       0   \n",
       "195                          0                       0   \n",
       "\n",
       "     Car_Name_Honda Dream Yuga   Car_Name_Honda Karizma  \\\n",
       "252                           0                       0   \n",
       "37                            0                       0   \n",
       "153                           0                       0   \n",
       "64                            0                       0   \n",
       "195                           0                       0   \n",
       "\n",
       "     Car_Name_Hyosung GT250R  Car_Name_KTM 390 Duke   Car_Name_KTM RC200  \\\n",
       "252                        0                       0                   0   \n",
       "37                         0                       0                   0   \n",
       "153                        0                       0                   0   \n",
       "64                         0                       0                   0   \n",
       "195                        0                       0                   0   \n",
       "\n",
       "     Car_Name_KTM RC390  Car_Name_Mahindra Mojo XT300  \\\n",
       "252                   0                             0   \n",
       "37                    0                             0   \n",
       "153                   0                             0   \n",
       "64                    0                             0   \n",
       "195                   0                             0   \n",
       "\n",
       "     Car_Name_Royal Enfield Bullet 350  Car_Name_Royal Enfield Classic 350  \\\n",
       "252                                  0                                   0   \n",
       "37                                   0                                   0   \n",
       "153                                  0                                   0   \n",
       "64                                   0                                   0   \n",
       "195                                  0                                   0   \n",
       "\n",
       "     Car_Name_Royal Enfield Classic 500  Car_Name_Royal Enfield Thunder 350  \\\n",
       "252                                   0                                   0   \n",
       "37                                    0                                   0   \n",
       "153                                   0                                   0   \n",
       "64                                    0                                   0   \n",
       "195                                   0                                   0   \n",
       "\n",
       "     Car_Name_Royal Enfield Thunder 500  Car_Name_Suzuki Access 125  \\\n",
       "252                                   0                           0   \n",
       "37                                    0                           0   \n",
       "153                                   0                           0   \n",
       "64                                    0                           0   \n",
       "195                                   0                           0   \n",
       "\n",
       "     Car_Name_TVS Apache RTR 160  Car_Name_TVS Apache RTR 180  \\\n",
       "252                            0                            0   \n",
       "37                             0                            0   \n",
       "153                            0                            0   \n",
       "64                             0                            0   \n",
       "195                            0                            0   \n",
       "\n",
       "     Car_Name_TVS Jupyter  Car_Name_TVS Sport   Car_Name_TVS Wego  \\\n",
       "252                     0                    0                  0   \n",
       "37                      0                    0                  0   \n",
       "153                     0                    0                  0   \n",
       "64                      0                    0                  0   \n",
       "195                     0                    0                  0   \n",
       "\n",
       "     Car_Name_UM Renegade Mojave  Car_Name_Yamaha FZ  v 2.0  \\\n",
       "252                            0                          0   \n",
       "37                             0                          0   \n",
       "153                            0                          0   \n",
       "64                             0                          0   \n",
       "195                            0                          0   \n",
       "\n",
       "     Car_Name_Yamaha FZ 16  Car_Name_Yamaha FZ S   Car_Name_Yamaha FZ S V 2.0  \\\n",
       "252                      0                      0                           0   \n",
       "37                       0                      0                           0   \n",
       "153                      0                      0                           0   \n",
       "64                       0                      0                           0   \n",
       "195                      0                      0                           0   \n",
       "\n",
       "     Car_Name_Yamaha Fazer   Car_Name_alto 800  Car_Name_alto k10  \\\n",
       "252                       0                  0                  0   \n",
       "37                        0                  0                  0   \n",
       "153                       0                  0                  0   \n",
       "64                        0                  0                  0   \n",
       "195                       0                  0                  0   \n",
       "\n",
       "     Car_Name_amaze  Car_Name_baleno  Car_Name_brio  Car_Name_camry  \\\n",
       "252               0                0              1               0   \n",
       "37                0                0              0               0   \n",
       "153               0                0              0               0   \n",
       "64                0                0              0               0   \n",
       "195               0                0              0               0   \n",
       "\n",
       "     Car_Name_ciaz  Car_Name_city  Car_Name_corolla  Car_Name_corolla altis  \\\n",
       "252              0              0                 0                       0   \n",
       "37               0              0                 0                       0   \n",
       "153              0              0                 0                       0   \n",
       "64               0              0                 0                       0   \n",
       "195              0              0                 0                       0   \n",
       "\n",
       "     Car_Name_creta  Car_Name_dzire  Car_Name_elantra  Car_Name_eon  \\\n",
       "252               0               0                 0             0   \n",
       "37                0               0                 0             0   \n",
       "153               0               0                 0             0   \n",
       "64                0               0                 0             0   \n",
       "195               0               0                 0             0   \n",
       "\n",
       "     Car_Name_ertiga  Car_Name_etios cross  Car_Name_etios g  \\\n",
       "252                0                     0                 0   \n",
       "37                 0                     0                 0   \n",
       "153                0                     0                 0   \n",
       "64                 0                     0                 0   \n",
       "195                0                     0                 0   \n",
       "\n",
       "     Car_Name_etios gd  Car_Name_etios liva  Car_Name_fortuner  \\\n",
       "252                  0                    0                  0   \n",
       "37                   0                    0                  0   \n",
       "153                  0                    0                  0   \n",
       "64                   0                    0                  1   \n",
       "195                  0                    0                  0   \n",
       "\n",
       "     Car_Name_grand i10  Car_Name_i10  Car_Name_i20  Car_Name_ignis  \\\n",
       "252                   0             0             0               0   \n",
       "37                    0             0             0               0   \n",
       "153                   0             0             0               0   \n",
       "64                    0             0             0               0   \n",
       "195                   0             0             0               0   \n",
       "\n",
       "     Car_Name_innova  Car_Name_jazz  Car_Name_land cruiser  Car_Name_omni  \\\n",
       "252                0              0                      0              0   \n",
       "37                 0              0                      0              0   \n",
       "153                0              0                      0              0   \n",
       "64                 0              0                      0              0   \n",
       "195                0              0                      0              0   \n",
       "\n",
       "     Car_Name_ritz  Car_Name_s cross  Car_Name_swift  Car_Name_sx4  \\\n",
       "252              0                 0               0             0   \n",
       "37               0                 0               0             0   \n",
       "153              0                 0               0             0   \n",
       "64               0                 0               0             0   \n",
       "195              0                 0               0             0   \n",
       "\n",
       "     Car_Name_verna  Car_Name_vitara brezza  Car_Name_wagon r  Car_Name_xcent  \\\n",
       "252               0                       0                 0               0   \n",
       "37                0                       0                 0               0   \n",
       "153               0                       0                 0               0   \n",
       "64                0                       0                 0               0   \n",
       "195               0                       0                 0               0   \n",
       "\n",
       "     Fuel_Type_Diesel  Fuel_Type_Petrol  Seller_Type_Individual  \\\n",
       "252                 0                 1                       0   \n",
       "37                  0                 1                       1   \n",
       "153                 0                 1                       1   \n",
       "64                  1                 0                       0   \n",
       "195                 0                 1                       1   \n",
       "\n",
       "     Transmission_Manual  \n",
       "252                    0  \n",
       "37                     1  \n",
       "153                    1  \n",
       "64                     0  \n",
       "195                    1  "
      ]
     },
     "execution_count": 17,
     "metadata": {},
     "output_type": "execute_result"
    }
   ],
   "source": [
    "df1.sample(5)"
   ]
  },
  {
   "cell_type": "code",
   "execution_count": 18,
   "metadata": {},
   "outputs": [
    {
     "data": {
      "text/plain": [
       "(301, 106)"
      ]
     },
     "execution_count": 18,
     "metadata": {},
     "output_type": "execute_result"
    }
   ],
   "source": [
    "df1.shape"
   ]
  },
  {
   "cell_type": "code",
   "execution_count": 19,
   "metadata": {},
   "outputs": [
    {
     "data": {
      "text/html": [
       "<div>\n",
       "<style scoped>\n",
       "    .dataframe tbody tr th:only-of-type {\n",
       "        vertical-align: middle;\n",
       "    }\n",
       "\n",
       "    .dataframe tbody tr th {\n",
       "        vertical-align: top;\n",
       "    }\n",
       "\n",
       "    .dataframe thead th {\n",
       "        text-align: right;\n",
       "    }\n",
       "</style>\n",
       "<table border=\"1\" class=\"dataframe\">\n",
       "  <thead>\n",
       "    <tr style=\"text-align: right;\">\n",
       "      <th></th>\n",
       "      <th>Year</th>\n",
       "      <th>Selling_Price</th>\n",
       "      <th>Present_Price</th>\n",
       "      <th>Kms_Driven</th>\n",
       "      <th>Fuel_Type</th>\n",
       "      <th>Seller_Type</th>\n",
       "      <th>Transmission</th>\n",
       "      <th>Owner</th>\n",
       "    </tr>\n",
       "  </thead>\n",
       "  <tbody>\n",
       "    <tr>\n",
       "      <th>0</th>\n",
       "      <td>2014</td>\n",
       "      <td>3.35</td>\n",
       "      <td>5.59</td>\n",
       "      <td>27000</td>\n",
       "      <td>Petrol</td>\n",
       "      <td>Dealer</td>\n",
       "      <td>Manual</td>\n",
       "      <td>0</td>\n",
       "    </tr>\n",
       "    <tr>\n",
       "      <th>1</th>\n",
       "      <td>2013</td>\n",
       "      <td>4.75</td>\n",
       "      <td>9.54</td>\n",
       "      <td>43000</td>\n",
       "      <td>Diesel</td>\n",
       "      <td>Dealer</td>\n",
       "      <td>Manual</td>\n",
       "      <td>0</td>\n",
       "    </tr>\n",
       "    <tr>\n",
       "      <th>2</th>\n",
       "      <td>2017</td>\n",
       "      <td>7.25</td>\n",
       "      <td>9.85</td>\n",
       "      <td>6900</td>\n",
       "      <td>Petrol</td>\n",
       "      <td>Dealer</td>\n",
       "      <td>Manual</td>\n",
       "      <td>0</td>\n",
       "    </tr>\n",
       "    <tr>\n",
       "      <th>3</th>\n",
       "      <td>2011</td>\n",
       "      <td>2.85</td>\n",
       "      <td>4.15</td>\n",
       "      <td>5200</td>\n",
       "      <td>Petrol</td>\n",
       "      <td>Dealer</td>\n",
       "      <td>Manual</td>\n",
       "      <td>0</td>\n",
       "    </tr>\n",
       "    <tr>\n",
       "      <th>4</th>\n",
       "      <td>2014</td>\n",
       "      <td>4.60</td>\n",
       "      <td>6.87</td>\n",
       "      <td>42450</td>\n",
       "      <td>Diesel</td>\n",
       "      <td>Dealer</td>\n",
       "      <td>Manual</td>\n",
       "      <td>0</td>\n",
       "    </tr>\n",
       "    <tr>\n",
       "      <th>...</th>\n",
       "      <td>...</td>\n",
       "      <td>...</td>\n",
       "      <td>...</td>\n",
       "      <td>...</td>\n",
       "      <td>...</td>\n",
       "      <td>...</td>\n",
       "      <td>...</td>\n",
       "      <td>...</td>\n",
       "    </tr>\n",
       "    <tr>\n",
       "      <th>296</th>\n",
       "      <td>2016</td>\n",
       "      <td>9.50</td>\n",
       "      <td>11.60</td>\n",
       "      <td>33988</td>\n",
       "      <td>Diesel</td>\n",
       "      <td>Dealer</td>\n",
       "      <td>Manual</td>\n",
       "      <td>0</td>\n",
       "    </tr>\n",
       "    <tr>\n",
       "      <th>297</th>\n",
       "      <td>2015</td>\n",
       "      <td>4.00</td>\n",
       "      <td>5.90</td>\n",
       "      <td>60000</td>\n",
       "      <td>Petrol</td>\n",
       "      <td>Dealer</td>\n",
       "      <td>Manual</td>\n",
       "      <td>0</td>\n",
       "    </tr>\n",
       "    <tr>\n",
       "      <th>298</th>\n",
       "      <td>2009</td>\n",
       "      <td>3.35</td>\n",
       "      <td>11.00</td>\n",
       "      <td>87934</td>\n",
       "      <td>Petrol</td>\n",
       "      <td>Dealer</td>\n",
       "      <td>Manual</td>\n",
       "      <td>0</td>\n",
       "    </tr>\n",
       "    <tr>\n",
       "      <th>299</th>\n",
       "      <td>2017</td>\n",
       "      <td>11.50</td>\n",
       "      <td>12.50</td>\n",
       "      <td>9000</td>\n",
       "      <td>Diesel</td>\n",
       "      <td>Dealer</td>\n",
       "      <td>Manual</td>\n",
       "      <td>0</td>\n",
       "    </tr>\n",
       "    <tr>\n",
       "      <th>300</th>\n",
       "      <td>2016</td>\n",
       "      <td>5.30</td>\n",
       "      <td>5.90</td>\n",
       "      <td>5464</td>\n",
       "      <td>Petrol</td>\n",
       "      <td>Dealer</td>\n",
       "      <td>Manual</td>\n",
       "      <td>0</td>\n",
       "    </tr>\n",
       "  </tbody>\n",
       "</table>\n",
       "<p>301 rows × 8 columns</p>\n",
       "</div>"
      ],
      "text/plain": [
       "     Year  Selling_Price  Present_Price  Kms_Driven Fuel_Type Seller_Type  \\\n",
       "0    2014           3.35           5.59       27000    Petrol      Dealer   \n",
       "1    2013           4.75           9.54       43000    Diesel      Dealer   \n",
       "2    2017           7.25           9.85        6900    Petrol      Dealer   \n",
       "3    2011           2.85           4.15        5200    Petrol      Dealer   \n",
       "4    2014           4.60           6.87       42450    Diesel      Dealer   \n",
       "..    ...            ...            ...         ...       ...         ...   \n",
       "296  2016           9.50          11.60       33988    Diesel      Dealer   \n",
       "297  2015           4.00           5.90       60000    Petrol      Dealer   \n",
       "298  2009           3.35          11.00       87934    Petrol      Dealer   \n",
       "299  2017          11.50          12.50        9000    Diesel      Dealer   \n",
       "300  2016           5.30           5.90        5464    Petrol      Dealer   \n",
       "\n",
       "    Transmission  Owner  \n",
       "0         Manual      0  \n",
       "1         Manual      0  \n",
       "2         Manual      0  \n",
       "3         Manual      0  \n",
       "4         Manual      0  \n",
       "..           ...    ...  \n",
       "296       Manual      0  \n",
       "297       Manual      0  \n",
       "298       Manual      0  \n",
       "299       Manual      0  \n",
       "300       Manual      0  \n",
       "\n",
       "[301 rows x 8 columns]"
      ]
     },
     "execution_count": 19,
     "metadata": {},
     "output_type": "execute_result"
    }
   ],
   "source": [
    "df1 = df.drop(\"Car_Name\",axis=1)\n",
    "df1"
   ]
  },
  {
   "cell_type": "code",
   "execution_count": 20,
   "metadata": {},
   "outputs": [],
   "source": [
    "df1 = pd.get_dummies(df1,drop_first = True)"
   ]
  },
  {
   "cell_type": "code",
   "execution_count": 21,
   "metadata": {},
   "outputs": [
    {
     "data": {
      "text/html": [
       "<div>\n",
       "<style scoped>\n",
       "    .dataframe tbody tr th:only-of-type {\n",
       "        vertical-align: middle;\n",
       "    }\n",
       "\n",
       "    .dataframe tbody tr th {\n",
       "        vertical-align: top;\n",
       "    }\n",
       "\n",
       "    .dataframe thead th {\n",
       "        text-align: right;\n",
       "    }\n",
       "</style>\n",
       "<table border=\"1\" class=\"dataframe\">\n",
       "  <thead>\n",
       "    <tr style=\"text-align: right;\">\n",
       "      <th></th>\n",
       "      <th>count</th>\n",
       "      <th>mean</th>\n",
       "      <th>std</th>\n",
       "      <th>min</th>\n",
       "      <th>25%</th>\n",
       "      <th>50%</th>\n",
       "      <th>75%</th>\n",
       "      <th>max</th>\n",
       "    </tr>\n",
       "  </thead>\n",
       "  <tbody>\n",
       "    <tr>\n",
       "      <th>Year</th>\n",
       "      <td>301.0</td>\n",
       "      <td>2013.627907</td>\n",
       "      <td>2.891554</td>\n",
       "      <td>2003.00</td>\n",
       "      <td>2012.0</td>\n",
       "      <td>2014.0</td>\n",
       "      <td>2016.0</td>\n",
       "      <td>2018.0</td>\n",
       "    </tr>\n",
       "    <tr>\n",
       "      <th>Selling_Price</th>\n",
       "      <td>301.0</td>\n",
       "      <td>4.661296</td>\n",
       "      <td>5.082812</td>\n",
       "      <td>0.10</td>\n",
       "      <td>0.9</td>\n",
       "      <td>3.6</td>\n",
       "      <td>6.0</td>\n",
       "      <td>35.0</td>\n",
       "    </tr>\n",
       "    <tr>\n",
       "      <th>Present_Price</th>\n",
       "      <td>301.0</td>\n",
       "      <td>7.628472</td>\n",
       "      <td>8.644115</td>\n",
       "      <td>0.32</td>\n",
       "      <td>1.2</td>\n",
       "      <td>6.4</td>\n",
       "      <td>9.9</td>\n",
       "      <td>92.6</td>\n",
       "    </tr>\n",
       "    <tr>\n",
       "      <th>Kms_Driven</th>\n",
       "      <td>301.0</td>\n",
       "      <td>36947.205980</td>\n",
       "      <td>38886.883882</td>\n",
       "      <td>500.00</td>\n",
       "      <td>15000.0</td>\n",
       "      <td>32000.0</td>\n",
       "      <td>48767.0</td>\n",
       "      <td>500000.0</td>\n",
       "    </tr>\n",
       "    <tr>\n",
       "      <th>Owner</th>\n",
       "      <td>301.0</td>\n",
       "      <td>0.043189</td>\n",
       "      <td>0.247915</td>\n",
       "      <td>0.00</td>\n",
       "      <td>0.0</td>\n",
       "      <td>0.0</td>\n",
       "      <td>0.0</td>\n",
       "      <td>3.0</td>\n",
       "    </tr>\n",
       "    <tr>\n",
       "      <th>Fuel_Type_Diesel</th>\n",
       "      <td>301.0</td>\n",
       "      <td>0.199336</td>\n",
       "      <td>0.400166</td>\n",
       "      <td>0.00</td>\n",
       "      <td>0.0</td>\n",
       "      <td>0.0</td>\n",
       "      <td>0.0</td>\n",
       "      <td>1.0</td>\n",
       "    </tr>\n",
       "    <tr>\n",
       "      <th>Fuel_Type_Petrol</th>\n",
       "      <td>301.0</td>\n",
       "      <td>0.794020</td>\n",
       "      <td>0.405089</td>\n",
       "      <td>0.00</td>\n",
       "      <td>1.0</td>\n",
       "      <td>1.0</td>\n",
       "      <td>1.0</td>\n",
       "      <td>1.0</td>\n",
       "    </tr>\n",
       "    <tr>\n",
       "      <th>Seller_Type_Individual</th>\n",
       "      <td>301.0</td>\n",
       "      <td>0.352159</td>\n",
       "      <td>0.478439</td>\n",
       "      <td>0.00</td>\n",
       "      <td>0.0</td>\n",
       "      <td>0.0</td>\n",
       "      <td>1.0</td>\n",
       "      <td>1.0</td>\n",
       "    </tr>\n",
       "    <tr>\n",
       "      <th>Transmission_Manual</th>\n",
       "      <td>301.0</td>\n",
       "      <td>0.867110</td>\n",
       "      <td>0.340021</td>\n",
       "      <td>0.00</td>\n",
       "      <td>1.0</td>\n",
       "      <td>1.0</td>\n",
       "      <td>1.0</td>\n",
       "      <td>1.0</td>\n",
       "    </tr>\n",
       "  </tbody>\n",
       "</table>\n",
       "</div>"
      ],
      "text/plain": [
       "                        count          mean           std      min      25%  \\\n",
       "Year                    301.0   2013.627907      2.891554  2003.00   2012.0   \n",
       "Selling_Price           301.0      4.661296      5.082812     0.10      0.9   \n",
       "Present_Price           301.0      7.628472      8.644115     0.32      1.2   \n",
       "Kms_Driven              301.0  36947.205980  38886.883882   500.00  15000.0   \n",
       "Owner                   301.0      0.043189      0.247915     0.00      0.0   \n",
       "Fuel_Type_Diesel        301.0      0.199336      0.400166     0.00      0.0   \n",
       "Fuel_Type_Petrol        301.0      0.794020      0.405089     0.00      1.0   \n",
       "Seller_Type_Individual  301.0      0.352159      0.478439     0.00      0.0   \n",
       "Transmission_Manual     301.0      0.867110      0.340021     0.00      1.0   \n",
       "\n",
       "                            50%      75%       max  \n",
       "Year                     2014.0   2016.0    2018.0  \n",
       "Selling_Price               3.6      6.0      35.0  \n",
       "Present_Price               6.4      9.9      92.6  \n",
       "Kms_Driven              32000.0  48767.0  500000.0  \n",
       "Owner                       0.0      0.0       3.0  \n",
       "Fuel_Type_Diesel            0.0      0.0       1.0  \n",
       "Fuel_Type_Petrol            1.0      1.0       1.0  \n",
       "Seller_Type_Individual      0.0      1.0       1.0  \n",
       "Transmission_Manual         1.0      1.0       1.0  "
      ]
     },
     "execution_count": 21,
     "metadata": {},
     "output_type": "execute_result"
    }
   ],
   "source": [
    "df1.describe().T"
   ]
  },
  {
   "cell_type": "code",
   "execution_count": 22,
   "metadata": {},
   "outputs": [
    {
     "data": {
      "text/html": [
       "<div>\n",
       "<style scoped>\n",
       "    .dataframe tbody tr th:only-of-type {\n",
       "        vertical-align: middle;\n",
       "    }\n",
       "\n",
       "    .dataframe tbody tr th {\n",
       "        vertical-align: top;\n",
       "    }\n",
       "\n",
       "    .dataframe thead th {\n",
       "        text-align: right;\n",
       "    }\n",
       "</style>\n",
       "<table border=\"1\" class=\"dataframe\">\n",
       "  <thead>\n",
       "    <tr style=\"text-align: right;\">\n",
       "      <th></th>\n",
       "      <th>Kms_Driven</th>\n",
       "      <th>Year</th>\n",
       "    </tr>\n",
       "  </thead>\n",
       "  <tbody>\n",
       "    <tr>\n",
       "      <th>246</th>\n",
       "      <td>35000</td>\n",
       "      <td>2012</td>\n",
       "    </tr>\n",
       "    <tr>\n",
       "      <th>259</th>\n",
       "      <td>36054</td>\n",
       "      <td>2014</td>\n",
       "    </tr>\n",
       "    <tr>\n",
       "      <th>190</th>\n",
       "      <td>60000</td>\n",
       "      <td>2008</td>\n",
       "    </tr>\n",
       "    <tr>\n",
       "      <th>80</th>\n",
       "      <td>23000</td>\n",
       "      <td>2016</td>\n",
       "    </tr>\n",
       "    <tr>\n",
       "      <th>248</th>\n",
       "      <td>30000</td>\n",
       "      <td>2013</td>\n",
       "    </tr>\n",
       "    <tr>\n",
       "      <th>300</th>\n",
       "      <td>5464</td>\n",
       "      <td>2016</td>\n",
       "    </tr>\n",
       "    <tr>\n",
       "      <th>226</th>\n",
       "      <td>24678</td>\n",
       "      <td>2015</td>\n",
       "    </tr>\n",
       "    <tr>\n",
       "      <th>245</th>\n",
       "      <td>71000</td>\n",
       "      <td>2012</td>\n",
       "    </tr>\n",
       "    <tr>\n",
       "      <th>159</th>\n",
       "      <td>4000</td>\n",
       "      <td>2017</td>\n",
       "    </tr>\n",
       "    <tr>\n",
       "      <th>144</th>\n",
       "      <td>25000</td>\n",
       "      <td>2014</td>\n",
       "    </tr>\n",
       "  </tbody>\n",
       "</table>\n",
       "</div>"
      ],
      "text/plain": [
       "     Kms_Driven  Year\n",
       "246       35000  2012\n",
       "259       36054  2014\n",
       "190       60000  2008\n",
       "80        23000  2016\n",
       "248       30000  2013\n",
       "300        5464  2016\n",
       "226       24678  2015\n",
       "245       71000  2012\n",
       "159        4000  2017\n",
       "144       25000  2014"
      ]
     },
     "execution_count": 22,
     "metadata": {},
     "output_type": "execute_result"
    }
   ],
   "source": [
    "df1[[\"Kms_Driven\",\"Year\"]].sample(10)"
   ]
  },
  {
   "cell_type": "code",
   "execution_count": 23,
   "metadata": {},
   "outputs": [
    {
     "data": {
      "text/plain": [
       "<seaborn.axisgrid.PairGrid at 0x1153fa4ea30>"
      ]
     },
     "execution_count": 23,
     "metadata": {},
     "output_type": "execute_result"
    },
    {
     "data": {
      "image/png": "[encoded data removed]",
      "text/plain": [
       "<Figure size 1620x1620 with 90 Axes>"
      ]
     },
     "metadata": {
      "needs_background": "light"
     },
     "output_type": "display_data"
    }
   ],
   "source": [
    "sns.pairplot(df1)"
   ]
  },
  {
   "cell_type": "code",
   "execution_count": 24,
   "metadata": {},
   "outputs": [
    {
     "data": {
      "text/plain": [
       "<AxesSubplot:>"
      ]
     },
     "execution_count": 24,
     "metadata": {},
     "output_type": "execute_result"
    },
    {
     "data": {
      "image/png": "[encoded data removed]",
      "text/plain": [
       "<Figure size 432x288 with 2 Axes>"
      ]
     },
     "metadata": {
      "needs_background": "light"
     },
     "output_type": "display_data"
    }
   ],
   "source": [
    "sns.heatmap(df1.corr(), annot =True)"
   ]
  },
  {
   "cell_type": "markdown",
   "metadata": {
    "id": "IxhZbAYsbV9L"
   },
   "source": [
    "### Splitting data into training and testing"
   ]
  },
  {
   "cell_type": "code",
   "execution_count": 25,
   "metadata": {},
   "outputs": [],
   "source": [
    "from sklearn.model_selection import train_test_split"
   ]
  },
  {
   "cell_type": "code",
   "execution_count": 26,
   "metadata": {},
   "outputs": [],
   "source": [
    "X = df1.drop(columns=\"Selling_Price\")\n",
    "y = df1.Selling_Price"
   ]
  },
  {
   "cell_type": "code",
   "execution_count": 27,
   "metadata": {},
   "outputs": [],
   "source": [
    "X_train, X_test, y_train, y_test = train_test_split(X, \n",
    "                                                    y, \n",
    "                                                    test_size=0.20, \n",
    "                                                    random_state=42)"
   ]
  },
  {
   "cell_type": "code",
   "execution_count": 39,
   "metadata": {
    "id": "aS1EZ-6bbV9N"
   },
   "outputs": [
    {
     "name": "stdout",
     "output_type": "stream",
     "text": [
      "Train features shape :  (240, 8)\n",
      "Train target shape   :  (240,)\n",
      "Test features shape  :  (61, 8)\n",
      "Test target shape    :  (61,)\n"
     ]
    }
   ],
   "source": [
    "print(\"Train features shape : \", X_train.shape)\n",
    "print(\"Train target shape   : \", y_train.shape)\n",
    "print(\"Test features shape  : \", X_test.shape)\n",
    "print(\"Test target shape    : \", y_test.shape)\n"
   ]
  },
  {
   "cell_type": "markdown",
   "metadata": {},
   "source": [
    "## ALL LIBRARY"
   ]
  },
  {
   "cell_type": "code",
   "execution_count": 28,
   "metadata": {},
   "outputs": [],
   "source": [
    "import numpy as np\n",
    "import pandas as pd\n",
    "from sklearn.linear_model import Ridge, Lasso, ElasticNet, LinearRegression\n",
    "from sklearn.metrics import mean_squared_error,r2_score, mean_absolute_error\n",
    "from sklearn.model_selection import train_test_split, cross_val_score,cross_validate\n",
    "\n",
    "from sklearn import model_selection\n",
    "import matplotlib.pyplot as plt\n",
    "from sklearn.linear_model import RidgeCV, LassoCV,ElasticNetCV"
   ]
  },
  {
   "cell_type": "markdown",
   "metadata": {
    "id": "KMJ-3iGxbV9O"
   },
   "source": [
    "##  Model Building (Linear Regression)"
   ]
  },
  {
   "cell_type": "code",
   "execution_count": 29,
   "metadata": {
    "id": "VEOdF27LbV9P"
   },
   "outputs": [
    {
     "name": "stdout",
     "output_type": "stream",
     "text": [
      "Train Results\n",
      "rmse: 1.7157274084081622\n",
      "r2:  0.888651730080457\n",
      "\n",
      "Test Results\n",
      "rmse: 1.8651552135520193\n",
      "r2:  0.8489813024898034\n"
     ]
    }
   ],
   "source": [
    "lin_model = LinearRegression()\n",
    "\n",
    "lin_model.fit(X_train, y_train)\n",
    "\n",
    "y_pred = lin_model.predict(X_test)\n",
    "\n",
    "\n",
    "print(\"Train Results\")\n",
    "print('rmse:', np.sqrt(mean_squared_error(y_train, lin_model.predict(X_train))))\n",
    "print('r2: ', r2_score(y_train, lin_model.predict(X_train)))\n",
    "print()\n",
    "print(\"Test Results\")\n",
    "print('rmse:', np.sqrt(mean_squared_error(y_test, lin_model.predict(X_test))))\n",
    "print('r2: ', r2_score(y_test, lin_model.predict(X_test)))"
   ]
  },
  {
   "cell_type": "markdown",
   "metadata": {
    "id": "6T7pkytsbV9Q"
   },
   "source": [
    "# Interpret the model"
   ]
  },
  {
   "cell_type": "code",
   "execution_count": 30,
   "metadata": {
    "id": "TS-KF0JtbV9R"
   },
   "outputs": [],
   "source": [
    "my_dict = {\"Actual\": y_test, \"Pred\": y_pred, \"Residual\":y_test-y_pred}\n"
   ]
  },
  {
   "cell_type": "code",
   "execution_count": 31,
   "metadata": {},
   "outputs": [
    {
     "data": {
      "text/html": [
       "<div>\n",
       "<style scoped>\n",
       "    .dataframe tbody tr th:only-of-type {\n",
       "        vertical-align: middle;\n",
       "    }\n",
       "\n",
       "    .dataframe tbody tr th {\n",
       "        vertical-align: top;\n",
       "    }\n",
       "\n",
       "    .dataframe thead th {\n",
       "        text-align: right;\n",
       "    }\n",
       "</style>\n",
       "<table border=\"1\" class=\"dataframe\">\n",
       "  <thead>\n",
       "    <tr style=\"text-align: right;\">\n",
       "      <th></th>\n",
       "      <th>Actual</th>\n",
       "      <th>Pred</th>\n",
       "      <th>Residual</th>\n",
       "    </tr>\n",
       "  </thead>\n",
       "  <tbody>\n",
       "    <tr>\n",
       "      <th>177</th>\n",
       "      <td>0.35</td>\n",
       "      <td>2.955343</td>\n",
       "      <td>-2.605343</td>\n",
       "    </tr>\n",
       "    <tr>\n",
       "      <th>289</th>\n",
       "      <td>10.11</td>\n",
       "      <td>8.178939</td>\n",
       "      <td>1.931061</td>\n",
       "    </tr>\n",
       "    <tr>\n",
       "      <th>228</th>\n",
       "      <td>4.95</td>\n",
       "      <td>6.454273</td>\n",
       "      <td>-1.504273</td>\n",
       "    </tr>\n",
       "    <tr>\n",
       "      <th>198</th>\n",
       "      <td>0.15</td>\n",
       "      <td>-1.424175</td>\n",
       "      <td>1.574175</td>\n",
       "    </tr>\n",
       "    <tr>\n",
       "      <th>60</th>\n",
       "      <td>6.95</td>\n",
       "      <td>9.088899</td>\n",
       "      <td>-2.138899</td>\n",
       "    </tr>\n",
       "    <tr>\n",
       "      <th>...</th>\n",
       "      <td>...</td>\n",
       "      <td>...</td>\n",
       "      <td>...</td>\n",
       "    </tr>\n",
       "    <tr>\n",
       "      <th>234</th>\n",
       "      <td>5.50</td>\n",
       "      <td>4.474781</td>\n",
       "      <td>1.025219</td>\n",
       "    </tr>\n",
       "    <tr>\n",
       "      <th>296</th>\n",
       "      <td>9.50</td>\n",
       "      <td>8.973776</td>\n",
       "      <td>0.526224</td>\n",
       "    </tr>\n",
       "    <tr>\n",
       "      <th>281</th>\n",
       "      <td>2.10</td>\n",
       "      <td>1.822946</td>\n",
       "      <td>0.277054</td>\n",
       "    </tr>\n",
       "    <tr>\n",
       "      <th>285</th>\n",
       "      <td>7.40</td>\n",
       "      <td>7.604167</td>\n",
       "      <td>-0.204167</td>\n",
       "    </tr>\n",
       "    <tr>\n",
       "      <th>182</th>\n",
       "      <td>0.30</td>\n",
       "      <td>0.222265</td>\n",
       "      <td>0.077735</td>\n",
       "    </tr>\n",
       "  </tbody>\n",
       "</table>\n",
       "<p>61 rows × 3 columns</p>\n",
       "</div>"
      ],
      "text/plain": [
       "     Actual      Pred  Residual\n",
       "177    0.35  2.955343 -2.605343\n",
       "289   10.11  8.178939  1.931061\n",
       "228    4.95  6.454273 -1.504273\n",
       "198    0.15 -1.424175  1.574175\n",
       "60     6.95  9.088899 -2.138899\n",
       "..      ...       ...       ...\n",
       "234    5.50  4.474781  1.025219\n",
       "296    9.50  8.973776  0.526224\n",
       "281    2.10  1.822946  0.277054\n",
       "285    7.40  7.604167 -0.204167\n",
       "182    0.30  0.222265  0.077735\n",
       "\n",
       "[61 rows x 3 columns]"
      ]
     },
     "execution_count": 31,
     "metadata": {},
     "output_type": "execute_result"
    }
   ],
   "source": [
    "comparing=pd.DataFrame(my_dict)\n",
    "comparing\n"
   ]
  },
  {
   "cell_type": "code",
   "execution_count": 34,
   "metadata": {},
   "outputs": [],
   "source": [
    "result_sample = comparing.head(25)"
   ]
  },
  {
   "cell_type": "code",
   "execution_count": 35,
   "metadata": {},
   "outputs": [
    {
     "data": {
      "image/png": "[encoded data removed]",
      "text/plain": [
       "<Figure size 1080x648 with 1 Axes>"
      ]
     },
     "metadata": {
      "needs_background": "light"
     },
     "output_type": "display_data"
    }
   ],
   "source": [
    "result_sample.plot.bar(figsize=(15,9))\n",
    "plt.show()\n"
   ]
  },
  {
   "cell_type": "markdown",
   "metadata": {
    "id": "Xf8mmQdSbV9R"
   },
   "source": [
    "# Model Evaluation"
   ]
  },
  {
   "cell_type": "code",
   "execution_count": 36,
   "metadata": {},
   "outputs": [],
   "source": [
    "def eval_metrics(actual, pred):\n",
    "    mae = mean_absolute_error(actual, pred)\n",
    "    mse = mean_squared_error(actual, pred)\n",
    "    rmse = np.sqrt(mean_squared_error(actual, pred))\n",
    "    R2_score = r2_score(actual, pred)\n",
    "    print(\"Model testing performance:\")\n",
    "    print(\"--------------------------\")\n",
    "    print(f\"R2_score \\t: {R2_score}\")\n",
    "    print(f\"MAE \\t\\t: {mae}\")\n",
    "    print(f\"MSE \\t\\t: {mse}\")\n",
    "    print(f\"RMSE \\t\\t: {rmse}\")\n"
   ]
  },
  {
   "cell_type": "code",
   "execution_count": 37,
   "metadata": {},
   "outputs": [
    {
     "name": "stdout",
     "output_type": "stream",
     "text": [
      "Model testing performance:\n",
      "--------------------------\n",
      "R2_score \t: 0.8489813024898034\n",
      "MAE \t\t: 1.2162256821295774\n",
      "MSE \t\t: 3.4788039706402785\n",
      "RMSE \t\t: 1.8651552135520193\n"
     ]
    }
   ],
   "source": [
    "eval_metrics(y_test, y_pred)\n"
   ]
  },
  {
   "cell_type": "code",
   "execution_count": 38,
   "metadata": {},
   "outputs": [],
   "source": [
    "y_train_pred = lin_model.predict(X_train)\n"
   ]
  },
  {
   "cell_type": "code",
   "execution_count": 39,
   "metadata": {},
   "outputs": [
    {
     "name": "stdout",
     "output_type": "stream",
     "text": [
      "Model testing performance:\n",
      "--------------------------\n",
      "R2_score \t: 0.888651730080457\n",
      "MAE \t\t: 1.1675804448346412\n",
      "MSE \t\t: 2.9437205399629884\n",
      "RMSE \t\t: 1.7157274084081622\n"
     ]
    }
   ],
   "source": [
    "eval_metrics(y_train, y_train_pred)\n"
   ]
  },
  {
   "cell_type": "code",
   "execution_count": 40,
   "metadata": {},
   "outputs": [
    {
     "data": {
      "text/html": [
       "<div>\n",
       "<style scoped>\n",
       "    .dataframe tbody tr th:only-of-type {\n",
       "        vertical-align: middle;\n",
       "    }\n",
       "\n",
       "    .dataframe tbody tr th {\n",
       "        vertical-align: top;\n",
       "    }\n",
       "\n",
       "    .dataframe thead th {\n",
       "        text-align: right;\n",
       "    }\n",
       "</style>\n",
       "<table border=\"1\" class=\"dataframe\">\n",
       "  <thead>\n",
       "    <tr style=\"text-align: right;\">\n",
       "      <th></th>\n",
       "      <th>model_train</th>\n",
       "      <th>model_test</th>\n",
       "    </tr>\n",
       "  </thead>\n",
       "  <tbody>\n",
       "    <tr>\n",
       "      <th>rmse</th>\n",
       "      <td>1.715727</td>\n",
       "      <td>1.865155</td>\n",
       "    </tr>\n",
       "    <tr>\n",
       "      <th>mae</th>\n",
       "      <td>1.167580</td>\n",
       "      <td>1.216226</td>\n",
       "    </tr>\n",
       "    <tr>\n",
       "      <th>mse</th>\n",
       "      <td>2.943721</td>\n",
       "      <td>3.478804</td>\n",
       "    </tr>\n",
       "    <tr>\n",
       "      <th>R2</th>\n",
       "      <td>0.888652</td>\n",
       "      <td>0.848981</td>\n",
       "    </tr>\n",
       "  </tbody>\n",
       "</table>\n",
       "</div>"
      ],
      "text/plain": [
       "      model_train  model_test\n",
       "rmse     1.715727    1.865155\n",
       "mae      1.167580    1.216226\n",
       "mse      2.943721    3.478804\n",
       "R2       0.888652    0.848981"
      ]
     },
     "execution_count": 40,
     "metadata": {},
     "output_type": "execute_result"
    }
   ],
   "source": [
    "model_scores = {\"model_train\": {\"rmse\" : np.sqrt(mean_squared_error(y_train, y_train_pred)),\n",
    "    \"mae\" : mean_absolute_error(y_train, y_train_pred),\n",
    "    \"mse\" : mean_squared_error(y_train, y_train_pred),\n",
    "    \"R2\" : r2_score(y_train, y_train_pred)}, \n",
    "\n",
    "    \"model_test\": {\"rmse\" : np.sqrt(mean_squared_error(y_test, y_pred)),\n",
    "    \"mae\" : mean_absolute_error(y_test, y_pred),\n",
    "    \"mse\" : mean_squared_error(y_test, y_pred),\n",
    "    \"R2\" : r2_score(y_test, y_pred)}}\n",
    "ls =pd.DataFrame(model_scores)\n",
    "ls\n"
   ]
  },
  {
   "cell_type": "code",
   "execution_count": null,
   "metadata": {
    "id": "cZTXxOlxbV9T"
   },
   "outputs": [],
   "source": []
  },
  {
   "cell_type": "markdown",
   "metadata": {
    "id": "ngfv0b5vbnO6"
   },
   "source": [
    "# Regularization"
   ]
  },
  {
   "cell_type": "markdown",
   "metadata": {
    "id": "PbnRHneJbV9T"
   },
   "source": [
    "# Ridge"
   ]
  },
  {
   "cell_type": "code",
   "execution_count": 41,
   "metadata": {
    "id": "sLbDL68AbV9V"
   },
   "outputs": [],
   "source": [
    "ridge_model = Ridge(alpha=1)"
   ]
  },
  {
   "cell_type": "code",
   "execution_count": 42,
   "metadata": {},
   "outputs": [
    {
     "data": {
      "text/plain": [
       "Ridge(alpha=1)"
      ]
     },
     "execution_count": 42,
     "metadata": {},
     "output_type": "execute_result"
    }
   ],
   "source": [
    "ridge_model.fit(X_train, y_train)"
   ]
  },
  {
   "cell_type": "code",
   "execution_count": 43,
   "metadata": {},
   "outputs": [
    {
     "name": "stdout",
     "output_type": "stream",
     "text": [
      "Model testing performance:\n",
      "--------------------------\n",
      "R2_score \t: 0.8501120632131484\n",
      "MAE \t\t: 1.2114288537899958\n",
      "MSE \t\t: 3.452756236425443\n",
      "RMSE \t\t: 1.8581593678760289\n"
     ]
    }
   ],
   "source": [
    "y_pred = ridge_model.predict(X_test)\n",
    "eval_metrics(y_test, y_pred)"
   ]
  },
  {
   "cell_type": "code",
   "execution_count": 44,
   "metadata": {},
   "outputs": [
    {
     "name": "stdout",
     "output_type": "stream",
     "text": [
      "Model testing performance:\n",
      "--------------------------\n",
      "R2_score \t: 0.8884015131437731\n",
      "MAE \t\t: 1.1686771305018693\n",
      "MSE \t\t: 2.9503355393383255\n",
      "RMSE \t\t: 1.7176540802322002\n"
     ]
    }
   ],
   "source": [
    "y_train_pred = ridge_model.predict(X_train)\n",
    "eval_metrics(y_train, y_train_pred)"
   ]
  },
  {
   "cell_type": "code",
   "execution_count": 45,
   "metadata": {},
   "outputs": [
    {
     "data": {
      "text/html": [
       "<div>\n",
       "<style scoped>\n",
       "    .dataframe tbody tr th:only-of-type {\n",
       "        vertical-align: middle;\n",
       "    }\n",
       "\n",
       "    .dataframe tbody tr th {\n",
       "        vertical-align: top;\n",
       "    }\n",
       "\n",
       "    .dataframe thead th {\n",
       "        text-align: right;\n",
       "    }\n",
       "</style>\n",
       "<table border=\"1\" class=\"dataframe\">\n",
       "  <thead>\n",
       "    <tr style=\"text-align: right;\">\n",
       "      <th></th>\n",
       "      <th>ridge_train</th>\n",
       "      <th>ridge_test</th>\n",
       "    </tr>\n",
       "  </thead>\n",
       "  <tbody>\n",
       "    <tr>\n",
       "      <th>rmse</th>\n",
       "      <td>1.717654</td>\n",
       "      <td>1.858159</td>\n",
       "    </tr>\n",
       "    <tr>\n",
       "      <th>mae</th>\n",
       "      <td>1.168677</td>\n",
       "      <td>1.211429</td>\n",
       "    </tr>\n",
       "    <tr>\n",
       "      <th>mse</th>\n",
       "      <td>2.950336</td>\n",
       "      <td>3.452756</td>\n",
       "    </tr>\n",
       "    <tr>\n",
       "      <th>R2</th>\n",
       "      <td>0.888402</td>\n",
       "      <td>0.850112</td>\n",
       "    </tr>\n",
       "  </tbody>\n",
       "</table>\n",
       "</div>"
      ],
      "text/plain": [
       "      ridge_train  ridge_test\n",
       "rmse     1.717654    1.858159\n",
       "mae      1.168677    1.211429\n",
       "mse      2.950336    3.452756\n",
       "R2       0.888402    0.850112"
      ]
     },
     "execution_count": 45,
     "metadata": {},
     "output_type": "execute_result"
    }
   ],
   "source": [
    "ridge_scores = {\"ridge_train\": {\"rmse\" : np.sqrt(mean_squared_error(y_train, y_train_pred)),\n",
    "    \"mae\" : mean_absolute_error(y_train, y_train_pred),\n",
    "    \"mse\" : mean_squared_error(y_train, y_train_pred),\n",
    "    \"R2\" : r2_score(y_train, y_train_pred)}, \n",
    "\n",
    "    \"ridge_test\": {\"rmse\" : np.sqrt(mean_squared_error(y_test, y_pred)),\n",
    "    \"mae\" : mean_absolute_error(y_test, y_pred),\n",
    "    \"mse\" : mean_squared_error(y_test, y_pred),\n",
    "    \"R2\" : r2_score(y_test, y_pred)}}\n",
    "rs = pd.DataFrame(ridge_scores)\n",
    "rs"
   ]
  },
  {
   "cell_type": "code",
   "execution_count": 46,
   "metadata": {
    "scrolled": true
   },
   "outputs": [],
   "source": [
    "model = Ridge(alpha=1)\n",
    "scores = cross_validate(model, X_train, y_train,\n",
    "                    scoring=['r2', 'neg_mean_absolute_error','neg_mean_squared_error','neg_root_mean_squared_error'], cv=10)"
   ]
  },
  {
   "cell_type": "code",
   "execution_count": 47,
   "metadata": {},
   "outputs": [
    {
     "data": {
      "text/html": [
       "<div>\n",
       "<style scoped>\n",
       "    .dataframe tbody tr th:only-of-type {\n",
       "        vertical-align: middle;\n",
       "    }\n",
       "\n",
       "    .dataframe tbody tr th {\n",
       "        vertical-align: top;\n",
       "    }\n",
       "\n",
       "    .dataframe thead th {\n",
       "        text-align: right;\n",
       "    }\n",
       "</style>\n",
       "<table border=\"1\" class=\"dataframe\">\n",
       "  <thead>\n",
       "    <tr style=\"text-align: right;\">\n",
       "      <th></th>\n",
       "      <th>test_r2</th>\n",
       "      <th>test_neg_mean_absolute_error</th>\n",
       "      <th>test_neg_mean_squared_error</th>\n",
       "      <th>test_neg_root_mean_squared_error</th>\n",
       "    </tr>\n",
       "  </thead>\n",
       "  <tbody>\n",
       "    <tr>\n",
       "      <th>1</th>\n",
       "      <td>0.900347</td>\n",
       "      <td>-1.451873</td>\n",
       "      <td>-4.179716</td>\n",
       "      <td>-2.044435</td>\n",
       "    </tr>\n",
       "    <tr>\n",
       "      <th>2</th>\n",
       "      <td>0.654007</td>\n",
       "      <td>-1.500285</td>\n",
       "      <td>-5.782670</td>\n",
       "      <td>-2.404718</td>\n",
       "    </tr>\n",
       "    <tr>\n",
       "      <th>3</th>\n",
       "      <td>0.818225</td>\n",
       "      <td>-1.681365</td>\n",
       "      <td>-11.109517</td>\n",
       "      <td>-3.333094</td>\n",
       "    </tr>\n",
       "    <tr>\n",
       "      <th>4</th>\n",
       "      <td>0.834832</td>\n",
       "      <td>-1.091568</td>\n",
       "      <td>-2.087149</td>\n",
       "      <td>-1.444697</td>\n",
       "    </tr>\n",
       "    <tr>\n",
       "      <th>5</th>\n",
       "      <td>0.803887</td>\n",
       "      <td>-1.272124</td>\n",
       "      <td>-4.094203</td>\n",
       "      <td>-2.023414</td>\n",
       "    </tr>\n",
       "    <tr>\n",
       "      <th>6</th>\n",
       "      <td>0.805688</td>\n",
       "      <td>-0.859961</td>\n",
       "      <td>-1.009681</td>\n",
       "      <td>-1.004829</td>\n",
       "    </tr>\n",
       "    <tr>\n",
       "      <th>7</th>\n",
       "      <td>0.859226</td>\n",
       "      <td>-1.326651</td>\n",
       "      <td>-7.323181</td>\n",
       "      <td>-2.706138</td>\n",
       "    </tr>\n",
       "    <tr>\n",
       "      <th>8</th>\n",
       "      <td>0.426320</td>\n",
       "      <td>-1.195132</td>\n",
       "      <td>-3.267166</td>\n",
       "      <td>-1.807530</td>\n",
       "    </tr>\n",
       "    <tr>\n",
       "      <th>9</th>\n",
       "      <td>0.899870</td>\n",
       "      <td>-1.263281</td>\n",
       "      <td>-2.796771</td>\n",
       "      <td>-1.672355</td>\n",
       "    </tr>\n",
       "    <tr>\n",
       "      <th>10</th>\n",
       "      <td>0.870952</td>\n",
       "      <td>-0.887696</td>\n",
       "      <td>-1.202186</td>\n",
       "      <td>-1.096442</td>\n",
       "    </tr>\n",
       "  </tbody>\n",
       "</table>\n",
       "</div>"
      ],
      "text/plain": [
       "     test_r2  test_neg_mean_absolute_error  test_neg_mean_squared_error  \\\n",
       "1   0.900347                     -1.451873                    -4.179716   \n",
       "2   0.654007                     -1.500285                    -5.782670   \n",
       "3   0.818225                     -1.681365                   -11.109517   \n",
       "4   0.834832                     -1.091568                    -2.087149   \n",
       "5   0.803887                     -1.272124                    -4.094203   \n",
       "6   0.805688                     -0.859961                    -1.009681   \n",
       "7   0.859226                     -1.326651                    -7.323181   \n",
       "8   0.426320                     -1.195132                    -3.267166   \n",
       "9   0.899870                     -1.263281                    -2.796771   \n",
       "10  0.870952                     -0.887696                    -1.202186   \n",
       "\n",
       "    test_neg_root_mean_squared_error  \n",
       "1                          -2.044435  \n",
       "2                          -2.404718  \n",
       "3                          -3.333094  \n",
       "4                          -1.444697  \n",
       "5                          -2.023414  \n",
       "6                          -1.004829  \n",
       "7                          -2.706138  \n",
       "8                          -1.807530  \n",
       "9                          -1.672355  \n",
       "10                         -1.096442  "
      ]
     },
     "execution_count": 47,
     "metadata": {},
     "output_type": "execute_result"
    }
   ],
   "source": [
    "scores = pd.DataFrame(scores, index = range(1, 11))\n",
    "scores.iloc[:,2:]"
   ]
  },
  {
   "cell_type": "code",
   "execution_count": 48,
   "metadata": {},
   "outputs": [
    {
     "data": {
      "text/plain": [
       "test_r2                             0.787335\n",
       "test_neg_mean_absolute_error       -1.252994\n",
       "test_neg_mean_squared_error        -4.285224\n",
       "test_neg_root_mean_squared_error   -1.953765\n",
       "dtype: float64"
      ]
     },
     "execution_count": 48,
     "metadata": {},
     "output_type": "execute_result"
    }
   ],
   "source": [
    "pd.DataFrame(scores, index = range(1, 11)).iloc[:, 2:].mean()"
   ]
  },
  {
   "cell_type": "code",
   "execution_count": 49,
   "metadata": {},
   "outputs": [
    {
     "name": "stdout",
     "output_type": "stream",
     "text": [
      "Model testing performance:\n",
      "--------------------------\n",
      "R2_score \t: 0.8501120632131484\n",
      "MAE \t\t: 1.2114288537899958\n",
      "MSE \t\t: 3.452756236425443\n",
      "RMSE \t\t: 1.8581593678760289\n"
     ]
    }
   ],
   "source": [
    "eval_metrics(y_test, y_pred)"
   ]
  },
  {
   "cell_type": "code",
   "execution_count": 50,
   "metadata": {},
   "outputs": [
    {
     "data": {
      "text/plain": [
       "array([0.01, 0.02, 0.03, 0.04, 0.05, 0.06, 0.07, 0.08, 0.09, 0.1 , 0.11,\n",
       "       0.12, 0.13, 0.14, 0.15, 0.16, 0.17, 0.18, 0.19, 0.2 , 0.21, 0.22,\n",
       "       0.23, 0.24, 0.25, 0.26, 0.27, 0.28, 0.29, 0.3 , 0.31, 0.32, 0.33,\n",
       "       0.34, 0.35, 0.36, 0.37, 0.38, 0.39, 0.4 , 0.41, 0.42, 0.43, 0.44,\n",
       "       0.45, 0.46, 0.47, 0.48, 0.49, 0.5 , 0.51, 0.52, 0.53, 0.54, 0.55,\n",
       "       0.56, 0.57, 0.58, 0.59, 0.6 , 0.61, 0.62, 0.63, 0.64, 0.65, 0.66,\n",
       "       0.67, 0.68, 0.69, 0.7 , 0.71, 0.72, 0.73, 0.74, 0.75, 0.76, 0.77,\n",
       "       0.78, 0.79, 0.8 , 0.81, 0.82, 0.83, 0.84, 0.85, 0.86, 0.87, 0.88,\n",
       "       0.89, 0.9 , 0.91, 0.92, 0.93, 0.94, 0.95, 0.96, 0.97, 0.98, 0.99,\n",
       "       1.  ])"
      ]
     },
     "execution_count": 50,
     "metadata": {},
     "output_type": "execute_result"
    }
   ],
   "source": [
    "alpha_space = np.linspace(0.01, 1, 100)  # bu aralığı azaltıp arttırabilirsin. \n",
    "alpha_space"
   ]
  },
  {
   "cell_type": "code",
   "execution_count": 51,
   "metadata": {},
   "outputs": [],
   "source": [
    "ridge_cv_model = RidgeCV(alphas = alpha_space, cv = 10, scoring = \"neg_root_mean_squared_error\")"
   ]
  },
  {
   "cell_type": "code",
   "execution_count": 52,
   "metadata": {},
   "outputs": [
    {
     "data": {
      "text/plain": [
       "RidgeCV(alphas=array([0.01, 0.02, 0.03, 0.04, 0.05, 0.06, 0.07, 0.08, 0.09, 0.1 , 0.11,\n",
       "       0.12, 0.13, 0.14, 0.15, 0.16, 0.17, 0.18, 0.19, 0.2 , 0.21, 0.22,\n",
       "       0.23, 0.24, 0.25, 0.26, 0.27, 0.28, 0.29, 0.3 , 0.31, 0.32, 0.33,\n",
       "       0.34, 0.35, 0.36, 0.37, 0.38, 0.39, 0.4 , 0.41, 0.42, 0.43, 0.44,\n",
       "       0.45, 0.46, 0.47, 0.48, 0.49, 0.5 , 0.51, 0.52, 0.53, 0.54, 0.55,\n",
       "       0.56, 0.57, 0.58, 0.59, 0.6 , 0.61, 0.62, 0.63, 0.64, 0.65, 0.66,\n",
       "       0.67, 0.68, 0.69, 0.7 , 0.71, 0.72, 0.73, 0.74, 0.75, 0.76, 0.77,\n",
       "       0.78, 0.79, 0.8 , 0.81, 0.82, 0.83, 0.84, 0.85, 0.86, 0.87, 0.88,\n",
       "       0.89, 0.9 , 0.91, 0.92, 0.93, 0.94, 0.95, 0.96, 0.97, 0.98, 0.99,\n",
       "       1.  ]),\n",
       "        cv=10, scoring='neg_root_mean_squared_error')"
      ]
     },
     "execution_count": 52,
     "metadata": {},
     "output_type": "execute_result"
    }
   ],
   "source": [
    "ridge_cv_model.fit(X_train, y_train)"
   ]
  },
  {
   "cell_type": "code",
   "execution_count": 53,
   "metadata": {},
   "outputs": [
    {
     "data": {
      "text/plain": [
       "1.0"
      ]
     },
     "execution_count": 53,
     "metadata": {},
     "output_type": "execute_result"
    }
   ],
   "source": [
    "ridge_cv_model.alpha_"
   ]
  },
  {
   "cell_type": "code",
   "execution_count": 54,
   "metadata": {},
   "outputs": [],
   "source": [
    "y_pred = ridge_cv_model.predict(X_test)"
   ]
  },
  {
   "cell_type": "code",
   "execution_count": 55,
   "metadata": {},
   "outputs": [
    {
     "name": "stdout",
     "output_type": "stream",
     "text": [
      "Model testing performance:\n",
      "--------------------------\n",
      "R2_score \t: 0.8501120632131484\n",
      "MAE \t\t: 1.2114288537899958\n",
      "MSE \t\t: 3.452756236425443\n",
      "RMSE \t\t: 1.8581593678760289\n"
     ]
    }
   ],
   "source": [
    "eval_metrics(y_test, y_pred)"
   ]
  },
  {
   "cell_type": "code",
   "execution_count": 56,
   "metadata": {},
   "outputs": [
    {
     "name": "stdout",
     "output_type": "stream",
     "text": [
      "Model testing performance:\n",
      "--------------------------\n",
      "R2_score \t: 0.8884015131437731\n",
      "MAE \t\t: 1.1686771305018693\n",
      "MSE \t\t: 2.9503355393383255\n",
      "RMSE \t\t: 1.7176540802322002\n"
     ]
    }
   ],
   "source": [
    "y_train_pred = ridge_cv_model.predict(X_train)\n",
    "eval_metrics(y_train, y_train_pred) "
   ]
  },
  {
   "cell_type": "code",
   "execution_count": 64,
   "metadata": {},
   "outputs": [
    {
     "data": {
      "text/html": [
       "<div>\n",
       "<style scoped>\n",
       "    .dataframe tbody tr th:only-of-type {\n",
       "        vertical-align: middle;\n",
       "    }\n",
       "\n",
       "    .dataframe tbody tr th {\n",
       "        vertical-align: top;\n",
       "    }\n",
       "\n",
       "    .dataframe thead th {\n",
       "        text-align: right;\n",
       "    }\n",
       "</style>\n",
       "<table border=\"1\" class=\"dataframe\">\n",
       "  <thead>\n",
       "    <tr style=\"text-align: right;\">\n",
       "      <th></th>\n",
       "      <th>ridge_cv_train</th>\n",
       "      <th>ridge_cv_test</th>\n",
       "    </tr>\n",
       "  </thead>\n",
       "  <tbody>\n",
       "    <tr>\n",
       "      <th>rmse</th>\n",
       "      <td>2.004403</td>\n",
       "      <td>1.858159</td>\n",
       "    </tr>\n",
       "    <tr>\n",
       "      <th>mae</th>\n",
       "      <td>1.223111</td>\n",
       "      <td>1.211429</td>\n",
       "    </tr>\n",
       "    <tr>\n",
       "      <th>mse</th>\n",
       "      <td>4.017632</td>\n",
       "      <td>3.452756</td>\n",
       "    </tr>\n",
       "    <tr>\n",
       "      <th>R2</th>\n",
       "      <td>0.848030</td>\n",
       "      <td>0.850112</td>\n",
       "    </tr>\n",
       "  </tbody>\n",
       "</table>\n",
       "</div>"
      ],
      "text/plain": [
       "      ridge_cv_train  ridge_cv_test\n",
       "rmse        2.004403       1.858159\n",
       "mae         1.223111       1.211429\n",
       "mse         4.017632       3.452756\n",
       "R2          0.848030       0.850112"
      ]
     },
     "execution_count": 64,
     "metadata": {},
     "output_type": "execute_result"
    }
   ],
   "source": [
    "ridge_cv_scores = {\"ridge_cv_train\": {\"rmse\" : np.sqrt(mean_squared_error(y_train, y_train_pred)),\n",
    "    \"mae\" : mean_absolute_error(y_train, y_train_pred),\n",
    "    \"mse\" : mean_squared_error(y_train, y_train_pred),\n",
    "    \"R2\" : r2_score(y_train, y_train_pred)}, \n",
    "\n",
    "    \"ridge_cv_test\": {\"rmse\" : np.sqrt(mean_squared_error(y_test, y_pred)),\n",
    "    \"mae\" : mean_absolute_error(y_test, y_pred),\n",
    "    \"mse\" : mean_squared_error(y_test, y_pred),\n",
    "    \"R2\" : r2_score(y_test, y_pred)}}\n",
    "rcs = pd.DataFrame(ridge_cv_scores)\n",
    "rcs"
   ]
  },
  {
   "cell_type": "code",
   "execution_count": null,
   "metadata": {},
   "outputs": [],
   "source": []
  },
  {
   "cell_type": "markdown",
   "metadata": {
    "id": "B_T57TpNbV9V"
   },
   "source": [
    "# Lasso"
   ]
  },
  {
   "cell_type": "code",
   "execution_count": 65,
   "metadata": {
    "id": "MBAiMxBAbV9W"
   },
   "outputs": [
    {
     "data": {
      "text/plain": [
       "Lasso(alpha=1)"
      ]
     },
     "execution_count": 65,
     "metadata": {},
     "output_type": "execute_result"
    }
   ],
   "source": [
    "lasso_model = Lasso(alpha = 1)\n",
    "lasso_model.fit(X_train, y_train)"
   ]
  },
  {
   "cell_type": "code",
   "execution_count": 66,
   "metadata": {},
   "outputs": [],
   "source": [
    "y_train_pred = lasso_model.predict(X_train)"
   ]
  },
  {
   "cell_type": "code",
   "execution_count": 67,
   "metadata": {},
   "outputs": [
    {
     "name": "stdout",
     "output_type": "stream",
     "text": [
      "Model testing performance:\n",
      "--------------------------\n",
      "R2_score \t: 0.848030286813716\n",
      "MAE \t\t: 1.2231110358007187\n",
      "MSE \t\t: 4.017631944187324\n",
      "RMSE \t\t: 2.004403139138263\n"
     ]
    }
   ],
   "source": [
    "eval_metrics(y_train, y_train_pred)"
   ]
  },
  {
   "cell_type": "code",
   "execution_count": 68,
   "metadata": {},
   "outputs": [],
   "source": [
    "y_pred = lasso_model.predict(X_test)"
   ]
  },
  {
   "cell_type": "code",
   "execution_count": 69,
   "metadata": {
    "scrolled": false
   },
   "outputs": [
    {
     "name": "stdout",
     "output_type": "stream",
     "text": [
      "Model testing performance:\n",
      "--------------------------\n",
      "R2_score \t: 0.798551246128469\n",
      "MAE \t\t: 1.471428863669146\n",
      "MSE \t\t: 4.6404897963148\n",
      "RMSE \t\t: 2.1541796109690576\n"
     ]
    }
   ],
   "source": [
    "eval_metrics(y_test, y_pred)"
   ]
  },
  {
   "cell_type": "code",
   "execution_count": 70,
   "metadata": {},
   "outputs": [
    {
     "data": {
      "text/html": [
       "<div>\n",
       "<style scoped>\n",
       "    .dataframe tbody tr th:only-of-type {\n",
       "        vertical-align: middle;\n",
       "    }\n",
       "\n",
       "    .dataframe tbody tr th {\n",
       "        vertical-align: top;\n",
       "    }\n",
       "\n",
       "    .dataframe thead th {\n",
       "        text-align: right;\n",
       "    }\n",
       "</style>\n",
       "<table border=\"1\" class=\"dataframe\">\n",
       "  <thead>\n",
       "    <tr style=\"text-align: right;\">\n",
       "      <th></th>\n",
       "      <th>lasso_train</th>\n",
       "      <th>lasso_test</th>\n",
       "    </tr>\n",
       "  </thead>\n",
       "  <tbody>\n",
       "    <tr>\n",
       "      <th>rmse</th>\n",
       "      <td>2.004403</td>\n",
       "      <td>2.154180</td>\n",
       "    </tr>\n",
       "    <tr>\n",
       "      <th>mae</th>\n",
       "      <td>1.223111</td>\n",
       "      <td>1.471429</td>\n",
       "    </tr>\n",
       "    <tr>\n",
       "      <th>mse</th>\n",
       "      <td>4.017632</td>\n",
       "      <td>4.640490</td>\n",
       "    </tr>\n",
       "    <tr>\n",
       "      <th>R2</th>\n",
       "      <td>0.848030</td>\n",
       "      <td>0.798551</td>\n",
       "    </tr>\n",
       "  </tbody>\n",
       "</table>\n",
       "</div>"
      ],
      "text/plain": [
       "      lasso_train  lasso_test\n",
       "rmse     2.004403    2.154180\n",
       "mae      1.223111    1.471429\n",
       "mse      4.017632    4.640490\n",
       "R2       0.848030    0.798551"
      ]
     },
     "execution_count": 70,
     "metadata": {},
     "output_type": "execute_result"
    }
   ],
   "source": [
    "lasso_scores = {\"lasso_train\": {\"rmse\" : np.sqrt(mean_squared_error(y_train, y_train_pred)),\n",
    "    \"mae\" : mean_absolute_error(y_train, y_train_pred),\n",
    "    \"mse\" : mean_squared_error(y_train, y_train_pred),\n",
    "    \"R2\" : r2_score(y_train, y_train_pred)}, \n",
    "\n",
    "    \"lasso_test\": {\"rmse\" : np.sqrt(mean_squared_error(y_test, y_pred)),\n",
    "    \"mae\" : mean_absolute_error(y_test, y_pred),\n",
    "    \"mse\" : mean_squared_error(y_test, y_pred),\n",
    "    \"R2\" : r2_score(y_test, y_pred)}}\n",
    "lss = pd.DataFrame(lasso_scores)\n",
    "lss"
   ]
  },
  {
   "cell_type": "code",
   "execution_count": 71,
   "metadata": {},
   "outputs": [
    {
     "data": {
      "text/html": [
       "<div>\n",
       "<style scoped>\n",
       "    .dataframe tbody tr th:only-of-type {\n",
       "        vertical-align: middle;\n",
       "    }\n",
       "\n",
       "    .dataframe tbody tr th {\n",
       "        vertical-align: top;\n",
       "    }\n",
       "\n",
       "    .dataframe thead th {\n",
       "        text-align: right;\n",
       "    }\n",
       "</style>\n",
       "<table border=\"1\" class=\"dataframe\">\n",
       "  <thead>\n",
       "    <tr style=\"text-align: right;\">\n",
       "      <th></th>\n",
       "      <th>model_train</th>\n",
       "      <th>model_test</th>\n",
       "      <th>ridge_train</th>\n",
       "      <th>ridge_test</th>\n",
       "      <th>ridge_cv_train</th>\n",
       "      <th>ridge_cv_test</th>\n",
       "      <th>lasso_train</th>\n",
       "      <th>lasso_test</th>\n",
       "    </tr>\n",
       "  </thead>\n",
       "  <tbody>\n",
       "    <tr>\n",
       "      <th>rmse</th>\n",
       "      <td>1.715727</td>\n",
       "      <td>1.865155</td>\n",
       "      <td>1.717654</td>\n",
       "      <td>1.858159</td>\n",
       "      <td>2.004403</td>\n",
       "      <td>1.858159</td>\n",
       "      <td>2.004403</td>\n",
       "      <td>2.154180</td>\n",
       "    </tr>\n",
       "    <tr>\n",
       "      <th>mae</th>\n",
       "      <td>1.167580</td>\n",
       "      <td>1.216226</td>\n",
       "      <td>1.168677</td>\n",
       "      <td>1.211429</td>\n",
       "      <td>1.223111</td>\n",
       "      <td>1.211429</td>\n",
       "      <td>1.223111</td>\n",
       "      <td>1.471429</td>\n",
       "    </tr>\n",
       "    <tr>\n",
       "      <th>mse</th>\n",
       "      <td>2.943721</td>\n",
       "      <td>3.478804</td>\n",
       "      <td>2.950336</td>\n",
       "      <td>3.452756</td>\n",
       "      <td>4.017632</td>\n",
       "      <td>3.452756</td>\n",
       "      <td>4.017632</td>\n",
       "      <td>4.640490</td>\n",
       "    </tr>\n",
       "    <tr>\n",
       "      <th>R2</th>\n",
       "      <td>0.888652</td>\n",
       "      <td>0.848981</td>\n",
       "      <td>0.888402</td>\n",
       "      <td>0.850112</td>\n",
       "      <td>0.848030</td>\n",
       "      <td>0.850112</td>\n",
       "      <td>0.848030</td>\n",
       "      <td>0.798551</td>\n",
       "    </tr>\n",
       "  </tbody>\n",
       "</table>\n",
       "</div>"
      ],
      "text/plain": [
       "      model_train  model_test  ridge_train  ridge_test  ridge_cv_train  \\\n",
       "rmse     1.715727    1.865155     1.717654    1.858159        2.004403   \n",
       "mae      1.167580    1.216226     1.168677    1.211429        1.223111   \n",
       "mse      2.943721    3.478804     2.950336    3.452756        4.017632   \n",
       "R2       0.888652    0.848981     0.888402    0.850112        0.848030   \n",
       "\n",
       "      ridge_cv_test  lasso_train  lasso_test  \n",
       "rmse       1.858159     2.004403    2.154180  \n",
       "mae        1.211429     1.223111    1.471429  \n",
       "mse        3.452756     4.017632    4.640490  \n",
       "R2         0.850112     0.848030    0.798551  "
      ]
     },
     "execution_count": 71,
     "metadata": {},
     "output_type": "execute_result"
    }
   ],
   "source": [
    "pd.concat([ls, rs, rcs, lss], axis = 1)"
   ]
  },
  {
   "cell_type": "code",
   "execution_count": 72,
   "metadata": {},
   "outputs": [],
   "source": [
    "model = Lasso(alpha=1)\n",
    "scores = cross_validate(model, X_train, y_train,\n",
    "                        scoring=['r2', 'neg_mean_absolute_error','neg_mean_squared_error','neg_root_mean_squared_error'], cv=10)"
   ]
  },
  {
   "cell_type": "code",
   "execution_count": 73,
   "metadata": {},
   "outputs": [
    {
     "data": {
      "text/html": [
       "<div>\n",
       "<style scoped>\n",
       "    .dataframe tbody tr th:only-of-type {\n",
       "        vertical-align: middle;\n",
       "    }\n",
       "\n",
       "    .dataframe tbody tr th {\n",
       "        vertical-align: top;\n",
       "    }\n",
       "\n",
       "    .dataframe thead th {\n",
       "        text-align: right;\n",
       "    }\n",
       "</style>\n",
       "<table border=\"1\" class=\"dataframe\">\n",
       "  <thead>\n",
       "    <tr style=\"text-align: right;\">\n",
       "      <th></th>\n",
       "      <th>test_r2</th>\n",
       "      <th>test_neg_mean_absolute_error</th>\n",
       "      <th>test_neg_mean_squared_error</th>\n",
       "      <th>test_neg_root_mean_squared_error</th>\n",
       "    </tr>\n",
       "  </thead>\n",
       "  <tbody>\n",
       "    <tr>\n",
       "      <th>1</th>\n",
       "      <td>0.883049</td>\n",
       "      <td>-1.435615</td>\n",
       "      <td>-4.905248</td>\n",
       "      <td>-2.214779</td>\n",
       "    </tr>\n",
       "    <tr>\n",
       "      <th>2</th>\n",
       "      <td>0.696743</td>\n",
       "      <td>-1.416323</td>\n",
       "      <td>-5.068414</td>\n",
       "      <td>-2.251314</td>\n",
       "    </tr>\n",
       "    <tr>\n",
       "      <th>3</th>\n",
       "      <td>0.725062</td>\n",
       "      <td>-1.911275</td>\n",
       "      <td>-16.803328</td>\n",
       "      <td>-4.099186</td>\n",
       "    </tr>\n",
       "    <tr>\n",
       "      <th>4</th>\n",
       "      <td>0.843876</td>\n",
       "      <td>-1.044645</td>\n",
       "      <td>-1.972867</td>\n",
       "      <td>-1.404588</td>\n",
       "    </tr>\n",
       "    <tr>\n",
       "      <th>5</th>\n",
       "      <td>0.736887</td>\n",
       "      <td>-1.464262</td>\n",
       "      <td>-5.492953</td>\n",
       "      <td>-2.343705</td>\n",
       "    </tr>\n",
       "    <tr>\n",
       "      <th>6</th>\n",
       "      <td>0.817708</td>\n",
       "      <td>-0.725413</td>\n",
       "      <td>-0.947220</td>\n",
       "      <td>-0.973252</td>\n",
       "    </tr>\n",
       "    <tr>\n",
       "      <th>7</th>\n",
       "      <td>0.813136</td>\n",
       "      <td>-1.597788</td>\n",
       "      <td>-9.720810</td>\n",
       "      <td>-3.117821</td>\n",
       "    </tr>\n",
       "    <tr>\n",
       "      <th>8</th>\n",
       "      <td>0.563139</td>\n",
       "      <td>-0.931708</td>\n",
       "      <td>-2.487967</td>\n",
       "      <td>-1.577329</td>\n",
       "    </tr>\n",
       "    <tr>\n",
       "      <th>9</th>\n",
       "      <td>0.834202</td>\n",
       "      <td>-1.482811</td>\n",
       "      <td>-4.630980</td>\n",
       "      <td>-2.151971</td>\n",
       "    </tr>\n",
       "    <tr>\n",
       "      <th>10</th>\n",
       "      <td>0.873459</td>\n",
       "      <td>-0.893706</td>\n",
       "      <td>-1.178830</td>\n",
       "      <td>-1.085739</td>\n",
       "    </tr>\n",
       "  </tbody>\n",
       "</table>\n",
       "</div>"
      ],
      "text/plain": [
       "     test_r2  test_neg_mean_absolute_error  test_neg_mean_squared_error  \\\n",
       "1   0.883049                     -1.435615                    -4.905248   \n",
       "2   0.696743                     -1.416323                    -5.068414   \n",
       "3   0.725062                     -1.911275                   -16.803328   \n",
       "4   0.843876                     -1.044645                    -1.972867   \n",
       "5   0.736887                     -1.464262                    -5.492953   \n",
       "6   0.817708                     -0.725413                    -0.947220   \n",
       "7   0.813136                     -1.597788                    -9.720810   \n",
       "8   0.563139                     -0.931708                    -2.487967   \n",
       "9   0.834202                     -1.482811                    -4.630980   \n",
       "10  0.873459                     -0.893706                    -1.178830   \n",
       "\n",
       "    test_neg_root_mean_squared_error  \n",
       "1                          -2.214779  \n",
       "2                          -2.251314  \n",
       "3                          -4.099186  \n",
       "4                          -1.404588  \n",
       "5                          -2.343705  \n",
       "6                          -0.973252  \n",
       "7                          -3.117821  \n",
       "8                          -1.577329  \n",
       "9                          -2.151971  \n",
       "10                         -1.085739  "
      ]
     },
     "execution_count": 73,
     "metadata": {},
     "output_type": "execute_result"
    }
   ],
   "source": [
    "scores = pd.DataFrame(scores, index = range(1, 11))\n",
    "scores.iloc[:,2:]"
   ]
  },
  {
   "cell_type": "code",
   "execution_count": 74,
   "metadata": {},
   "outputs": [
    {
     "data": {
      "text/plain": [
       "array([ 2.83120931e-01,  5.05717082e-01, -6.02109175e-06, -0.00000000e+00,\n",
       "        0.00000000e+00, -0.00000000e+00, -0.00000000e+00, -0.00000000e+00])"
      ]
     },
     "execution_count": 74,
     "metadata": {},
     "output_type": "execute_result"
    }
   ],
   "source": [
    "lasso_model.coef_"
   ]
  },
  {
   "cell_type": "code",
   "execution_count": 75,
   "metadata": {},
   "outputs": [],
   "source": [
    "lasso_cv_model = LassoCV(alphas = alpha_space, cv = 10, max_iter = 100000) "
   ]
  },
  {
   "cell_type": "code",
   "execution_count": 76,
   "metadata": {},
   "outputs": [
    {
     "data": {
      "text/plain": [
       "LassoCV(alphas=array([0.01, 0.02, 0.03, 0.04, 0.05, 0.06, 0.07, 0.08, 0.09, 0.1 , 0.11,\n",
       "       0.12, 0.13, 0.14, 0.15, 0.16, 0.17, 0.18, 0.19, 0.2 , 0.21, 0.22,\n",
       "       0.23, 0.24, 0.25, 0.26, 0.27, 0.28, 0.29, 0.3 , 0.31, 0.32, 0.33,\n",
       "       0.34, 0.35, 0.36, 0.37, 0.38, 0.39, 0.4 , 0.41, 0.42, 0.43, 0.44,\n",
       "       0.45, 0.46, 0.47, 0.48, 0.49, 0.5 , 0.51, 0.52, 0.53, 0.54, 0.55,\n",
       "       0.56, 0.57, 0.58, 0.59, 0.6 , 0.61, 0.62, 0.63, 0.64, 0.65, 0.66,\n",
       "       0.67, 0.68, 0.69, 0.7 , 0.71, 0.72, 0.73, 0.74, 0.75, 0.76, 0.77,\n",
       "       0.78, 0.79, 0.8 , 0.81, 0.82, 0.83, 0.84, 0.85, 0.86, 0.87, 0.88,\n",
       "       0.89, 0.9 , 0.91, 0.92, 0.93, 0.94, 0.95, 0.96, 0.97, 0.98, 0.99,\n",
       "       1.  ]),\n",
       "        cv=10, max_iter=100000)"
      ]
     },
     "execution_count": 76,
     "metadata": {},
     "output_type": "execute_result"
    }
   ],
   "source": [
    "lasso_cv_model.fit(X_train, y_train)"
   ]
  },
  {
   "cell_type": "code",
   "execution_count": 77,
   "metadata": {},
   "outputs": [
    {
     "data": {
      "text/plain": [
       "0.01"
      ]
     },
     "execution_count": 77,
     "metadata": {},
     "output_type": "execute_result"
    }
   ],
   "source": [
    "lasso_cv_model.alpha_"
   ]
  },
  {
   "cell_type": "code",
   "execution_count": 78,
   "metadata": {},
   "outputs": [
    {
     "name": "stdout",
     "output_type": "stream",
     "text": [
      "Model testing performance:\n",
      "--------------------------\n",
      "R2_score \t: 0.8883375747201656\n",
      "MAE \t\t: 1.1644092016211969\n",
      "MSE \t\t: 2.952025883076962\n",
      "RMSE \t\t: 1.7181460598787759\n"
     ]
    }
   ],
   "source": [
    "y_train_pred = lasso_cv_model.predict(X_train)\n",
    "eval_metrics(y_train, y_train_pred)"
   ]
  },
  {
   "cell_type": "code",
   "execution_count": 79,
   "metadata": {},
   "outputs": [
    {
     "name": "stdout",
     "output_type": "stream",
     "text": [
      "Model testing performance:\n",
      "--------------------------\n",
      "R2_score \t: 0.8507917908564931\n",
      "MAE \t\t: 1.2076443420406593\n",
      "MSE \t\t: 3.437098312846395\n",
      "RMSE \t\t: 1.8539412916396234\n"
     ]
    }
   ],
   "source": [
    "y_pred = lasso_cv_model.predict(X_test)\n",
    "eval_metrics(y_test, y_pred)"
   ]
  },
  {
   "cell_type": "code",
   "execution_count": 80,
   "metadata": {},
   "outputs": [
    {
     "data": {
      "text/html": [
       "<div>\n",
       "<style scoped>\n",
       "    .dataframe tbody tr th:only-of-type {\n",
       "        vertical-align: middle;\n",
       "    }\n",
       "\n",
       "    .dataframe tbody tr th {\n",
       "        vertical-align: top;\n",
       "    }\n",
       "\n",
       "    .dataframe thead th {\n",
       "        text-align: right;\n",
       "    }\n",
       "</style>\n",
       "<table border=\"1\" class=\"dataframe\">\n",
       "  <thead>\n",
       "    <tr style=\"text-align: right;\">\n",
       "      <th></th>\n",
       "      <th>lasso_cv_train</th>\n",
       "      <th>lasso_cv_test</th>\n",
       "    </tr>\n",
       "  </thead>\n",
       "  <tbody>\n",
       "    <tr>\n",
       "      <th>rmse</th>\n",
       "      <td>1.718146</td>\n",
       "      <td>1.853941</td>\n",
       "    </tr>\n",
       "    <tr>\n",
       "      <th>mae</th>\n",
       "      <td>1.164409</td>\n",
       "      <td>1.207644</td>\n",
       "    </tr>\n",
       "    <tr>\n",
       "      <th>mse</th>\n",
       "      <td>2.952026</td>\n",
       "      <td>3.437098</td>\n",
       "    </tr>\n",
       "    <tr>\n",
       "      <th>R2</th>\n",
       "      <td>0.888338</td>\n",
       "      <td>0.850792</td>\n",
       "    </tr>\n",
       "  </tbody>\n",
       "</table>\n",
       "</div>"
      ],
      "text/plain": [
       "      lasso_cv_train  lasso_cv_test\n",
       "rmse        1.718146       1.853941\n",
       "mae         1.164409       1.207644\n",
       "mse         2.952026       3.437098\n",
       "R2          0.888338       0.850792"
      ]
     },
     "execution_count": 80,
     "metadata": {},
     "output_type": "execute_result"
    }
   ],
   "source": [
    "lasso_cv_scores = {\"lasso_cv_train\": {\"rmse\" : np.sqrt(mean_squared_error(y_train, y_train_pred)),\n",
    "    \"mae\" : mean_absolute_error(y_train, y_train_pred),\n",
    "    \"mse\" : mean_squared_error(y_train, y_train_pred),\n",
    "    \"R2\" : r2_score(y_train, y_train_pred)}, \n",
    "\n",
    "    \"lasso_cv_test\": {\"rmse\" : np.sqrt(mean_squared_error(y_test, y_pred)),\n",
    "    \"mae\" : mean_absolute_error(y_test, y_pred),\n",
    "    \"mse\" : mean_squared_error(y_test, y_pred),\n",
    "    \"R2\" : r2_score(y_test, y_pred)}}\n",
    "lcs = pd.DataFrame(lasso_cv_scores)\n",
    "lcs"
   ]
  },
  {
   "cell_type": "code",
   "execution_count": 81,
   "metadata": {},
   "outputs": [
    {
     "data": {
      "text/html": [
       "<div>\n",
       "<style scoped>\n",
       "    .dataframe tbody tr th:only-of-type {\n",
       "        vertical-align: middle;\n",
       "    }\n",
       "\n",
       "    .dataframe tbody tr th {\n",
       "        vertical-align: top;\n",
       "    }\n",
       "\n",
       "    .dataframe thead th {\n",
       "        text-align: right;\n",
       "    }\n",
       "</style>\n",
       "<table border=\"1\" class=\"dataframe\">\n",
       "  <thead>\n",
       "    <tr style=\"text-align: right;\">\n",
       "      <th></th>\n",
       "      <th>model_train</th>\n",
       "      <th>model_test</th>\n",
       "      <th>ridge_train</th>\n",
       "      <th>ridge_test</th>\n",
       "      <th>ridge_cv_train</th>\n",
       "      <th>ridge_cv_test</th>\n",
       "      <th>lasso_train</th>\n",
       "      <th>lasso_test</th>\n",
       "      <th>lasso_cv_train</th>\n",
       "      <th>lasso_cv_test</th>\n",
       "    </tr>\n",
       "  </thead>\n",
       "  <tbody>\n",
       "    <tr>\n",
       "      <th>rmse</th>\n",
       "      <td>1.715727</td>\n",
       "      <td>1.865155</td>\n",
       "      <td>1.717654</td>\n",
       "      <td>1.858159</td>\n",
       "      <td>2.004403</td>\n",
       "      <td>1.858159</td>\n",
       "      <td>2.004403</td>\n",
       "      <td>2.154180</td>\n",
       "      <td>1.718146</td>\n",
       "      <td>1.853941</td>\n",
       "    </tr>\n",
       "    <tr>\n",
       "      <th>mae</th>\n",
       "      <td>1.167580</td>\n",
       "      <td>1.216226</td>\n",
       "      <td>1.168677</td>\n",
       "      <td>1.211429</td>\n",
       "      <td>1.223111</td>\n",
       "      <td>1.211429</td>\n",
       "      <td>1.223111</td>\n",
       "      <td>1.471429</td>\n",
       "      <td>1.164409</td>\n",
       "      <td>1.207644</td>\n",
       "    </tr>\n",
       "    <tr>\n",
       "      <th>mse</th>\n",
       "      <td>2.943721</td>\n",
       "      <td>3.478804</td>\n",
       "      <td>2.950336</td>\n",
       "      <td>3.452756</td>\n",
       "      <td>4.017632</td>\n",
       "      <td>3.452756</td>\n",
       "      <td>4.017632</td>\n",
       "      <td>4.640490</td>\n",
       "      <td>2.952026</td>\n",
       "      <td>3.437098</td>\n",
       "    </tr>\n",
       "    <tr>\n",
       "      <th>R2</th>\n",
       "      <td>0.888652</td>\n",
       "      <td>0.848981</td>\n",
       "      <td>0.888402</td>\n",
       "      <td>0.850112</td>\n",
       "      <td>0.848030</td>\n",
       "      <td>0.850112</td>\n",
       "      <td>0.848030</td>\n",
       "      <td>0.798551</td>\n",
       "      <td>0.888338</td>\n",
       "      <td>0.850792</td>\n",
       "    </tr>\n",
       "  </tbody>\n",
       "</table>\n",
       "</div>"
      ],
      "text/plain": [
       "      model_train  model_test  ridge_train  ridge_test  ridge_cv_train  \\\n",
       "rmse     1.715727    1.865155     1.717654    1.858159        2.004403   \n",
       "mae      1.167580    1.216226     1.168677    1.211429        1.223111   \n",
       "mse      2.943721    3.478804     2.950336    3.452756        4.017632   \n",
       "R2       0.888652    0.848981     0.888402    0.850112        0.848030   \n",
       "\n",
       "      ridge_cv_test  lasso_train  lasso_test  lasso_cv_train  lasso_cv_test  \n",
       "rmse       1.858159     2.004403    2.154180        1.718146       1.853941  \n",
       "mae        1.211429     1.223111    1.471429        1.164409       1.207644  \n",
       "mse        3.452756     4.017632    4.640490        2.952026       3.437098  \n",
       "R2         0.850112     0.848030    0.798551        0.888338       0.850792  "
      ]
     },
     "execution_count": 81,
     "metadata": {},
     "output_type": "execute_result"
    }
   ],
   "source": [
    "pd.concat([ls,rs, rcs, lss, lcs], axis = 1)"
   ]
  },
  {
   "cell_type": "markdown",
   "metadata": {
    "id": "26QEobIEbV9X"
   },
   "source": [
    "## Elastic-Net "
   ]
  },
  {
   "cell_type": "code",
   "execution_count": 82,
   "metadata": {
    "id": "hIgltF9YbV9Y"
   },
   "outputs": [
    {
     "data": {
      "text/plain": [
       "ElasticNet()"
      ]
     },
     "execution_count": 82,
     "metadata": {},
     "output_type": "execute_result"
    }
   ],
   "source": [
    "elastic_model = ElasticNet()\n",
    "elastic_model.fit(X_train, y_train)"
   ]
  },
  {
   "cell_type": "code",
   "execution_count": 83,
   "metadata": {},
   "outputs": [
    {
     "data": {
      "text/plain": [
       "0.5"
      ]
     },
     "execution_count": 83,
     "metadata": {},
     "output_type": "execute_result"
    }
   ],
   "source": [
    "elastic_model.l1_ratio"
   ]
  },
  {
   "cell_type": "code",
   "execution_count": 84,
   "metadata": {},
   "outputs": [
    {
     "data": {
      "text/plain": [
       "1.0"
      ]
     },
     "execution_count": 84,
     "metadata": {},
     "output_type": "execute_result"
    }
   ],
   "source": [
    "elastic_model.alpha"
   ]
  },
  {
   "cell_type": "code",
   "execution_count": 85,
   "metadata": {},
   "outputs": [
    {
     "name": "stdout",
     "output_type": "stream",
     "text": [
      "Model testing performance:\n",
      "--------------------------\n",
      "R2_score \t: 0.8515542497169762\n",
      "MAE \t\t: 1.2191411121564875\n",
      "MSE \t\t: 3.924468736641389\n",
      "RMSE \t\t: 1.9810271923023643\n"
     ]
    }
   ],
   "source": [
    "y_train_pred = elastic_model.predict(X_train)\n",
    "eval_metrics(y_train, y_train_pred)"
   ]
  },
  {
   "cell_type": "code",
   "execution_count": 86,
   "metadata": {},
   "outputs": [
    {
     "name": "stdout",
     "output_type": "stream",
     "text": [
      "Model testing performance:\n",
      "--------------------------\n",
      "R2_score \t: 0.8087874396439665\n",
      "MAE \t\t: 1.4234287536004082\n",
      "MSE \t\t: 4.404693095422508\n",
      "RMSE \t\t: 2.098736070929956\n"
     ]
    }
   ],
   "source": [
    "y_pred = elastic_model.predict(X_test)\n",
    "eval_metrics(y_test, y_pred)"
   ]
  },
  {
   "cell_type": "code",
   "execution_count": 87,
   "metadata": {},
   "outputs": [
    {
     "data": {
      "text/html": [
       "<div>\n",
       "<style scoped>\n",
       "    .dataframe tbody tr th:only-of-type {\n",
       "        vertical-align: middle;\n",
       "    }\n",
       "\n",
       "    .dataframe tbody tr th {\n",
       "        vertical-align: top;\n",
       "    }\n",
       "\n",
       "    .dataframe thead th {\n",
       "        text-align: right;\n",
       "    }\n",
       "</style>\n",
       "<table border=\"1\" class=\"dataframe\">\n",
       "  <thead>\n",
       "    <tr style=\"text-align: right;\">\n",
       "      <th></th>\n",
       "      <th>elastic_train</th>\n",
       "      <th>elastic_test</th>\n",
       "    </tr>\n",
       "  </thead>\n",
       "  <tbody>\n",
       "    <tr>\n",
       "      <th>rmse</th>\n",
       "      <td>1.981027</td>\n",
       "      <td>2.098736</td>\n",
       "    </tr>\n",
       "    <tr>\n",
       "      <th>mae</th>\n",
       "      <td>1.219141</td>\n",
       "      <td>1.423429</td>\n",
       "    </tr>\n",
       "    <tr>\n",
       "      <th>mse</th>\n",
       "      <td>3.924469</td>\n",
       "      <td>4.404693</td>\n",
       "    </tr>\n",
       "    <tr>\n",
       "      <th>R2</th>\n",
       "      <td>0.851554</td>\n",
       "      <td>0.808787</td>\n",
       "    </tr>\n",
       "  </tbody>\n",
       "</table>\n",
       "</div>"
      ],
      "text/plain": [
       "      elastic_train  elastic_test\n",
       "rmse       1.981027      2.098736\n",
       "mae        1.219141      1.423429\n",
       "mse        3.924469      4.404693\n",
       "R2         0.851554      0.808787"
      ]
     },
     "execution_count": 87,
     "metadata": {},
     "output_type": "execute_result"
    }
   ],
   "source": [
    "elastic_scores = {\"elastic_train\": {\"rmse\" : np.sqrt(mean_squared_error(y_train, y_train_pred)),\n",
    "    \"mae\" : mean_absolute_error(y_train, y_train_pred),\n",
    "    \"mse\" : mean_squared_error(y_train, y_train_pred),\n",
    "    \"R2\" : r2_score(y_train, y_train_pred)}, \n",
    "\n",
    "    \"elastic_test\": {\"rmse\" : np.sqrt(mean_squared_error(y_test, y_pred)),\n",
    "    \"mae\" : mean_absolute_error(y_test, y_pred),\n",
    "    \"mse\" : mean_squared_error(y_test, y_pred),\n",
    "    \"R2\" : r2_score(y_test, y_pred)}}\n",
    "es = pd.DataFrame(elastic_scores)\n",
    "es"
   ]
  },
  {
   "cell_type": "code",
   "execution_count": 88,
   "metadata": {},
   "outputs": [
    {
     "data": {
      "text/html": [
       "<div>\n",
       "<style scoped>\n",
       "    .dataframe tbody tr th:only-of-type {\n",
       "        vertical-align: middle;\n",
       "    }\n",
       "\n",
       "    .dataframe tbody tr th {\n",
       "        vertical-align: top;\n",
       "    }\n",
       "\n",
       "    .dataframe thead th {\n",
       "        text-align: right;\n",
       "    }\n",
       "</style>\n",
       "<table border=\"1\" class=\"dataframe\">\n",
       "  <thead>\n",
       "    <tr style=\"text-align: right;\">\n",
       "      <th></th>\n",
       "      <th>model_train</th>\n",
       "      <th>model_test</th>\n",
       "      <th>ridge_train</th>\n",
       "      <th>ridge_test</th>\n",
       "      <th>ridge_cv_train</th>\n",
       "      <th>ridge_cv_test</th>\n",
       "      <th>lasso_train</th>\n",
       "      <th>lasso_test</th>\n",
       "      <th>lasso_cv_train</th>\n",
       "      <th>lasso_cv_test</th>\n",
       "      <th>elastic_train</th>\n",
       "      <th>elastic_test</th>\n",
       "    </tr>\n",
       "  </thead>\n",
       "  <tbody>\n",
       "    <tr>\n",
       "      <th>rmse</th>\n",
       "      <td>1.715727</td>\n",
       "      <td>1.865155</td>\n",
       "      <td>1.717654</td>\n",
       "      <td>1.858159</td>\n",
       "      <td>2.004403</td>\n",
       "      <td>1.858159</td>\n",
       "      <td>2.004403</td>\n",
       "      <td>2.154180</td>\n",
       "      <td>1.718146</td>\n",
       "      <td>1.853941</td>\n",
       "      <td>1.981027</td>\n",
       "      <td>2.098736</td>\n",
       "    </tr>\n",
       "    <tr>\n",
       "      <th>mae</th>\n",
       "      <td>1.167580</td>\n",
       "      <td>1.216226</td>\n",
       "      <td>1.168677</td>\n",
       "      <td>1.211429</td>\n",
       "      <td>1.223111</td>\n",
       "      <td>1.211429</td>\n",
       "      <td>1.223111</td>\n",
       "      <td>1.471429</td>\n",
       "      <td>1.164409</td>\n",
       "      <td>1.207644</td>\n",
       "      <td>1.219141</td>\n",
       "      <td>1.423429</td>\n",
       "    </tr>\n",
       "    <tr>\n",
       "      <th>mse</th>\n",
       "      <td>2.943721</td>\n",
       "      <td>3.478804</td>\n",
       "      <td>2.950336</td>\n",
       "      <td>3.452756</td>\n",
       "      <td>4.017632</td>\n",
       "      <td>3.452756</td>\n",
       "      <td>4.017632</td>\n",
       "      <td>4.640490</td>\n",
       "      <td>2.952026</td>\n",
       "      <td>3.437098</td>\n",
       "      <td>3.924469</td>\n",
       "      <td>4.404693</td>\n",
       "    </tr>\n",
       "    <tr>\n",
       "      <th>R2</th>\n",
       "      <td>0.888652</td>\n",
       "      <td>0.848981</td>\n",
       "      <td>0.888402</td>\n",
       "      <td>0.850112</td>\n",
       "      <td>0.848030</td>\n",
       "      <td>0.850112</td>\n",
       "      <td>0.848030</td>\n",
       "      <td>0.798551</td>\n",
       "      <td>0.888338</td>\n",
       "      <td>0.850792</td>\n",
       "      <td>0.851554</td>\n",
       "      <td>0.808787</td>\n",
       "    </tr>\n",
       "  </tbody>\n",
       "</table>\n",
       "</div>"
      ],
      "text/plain": [
       "      model_train  model_test  ridge_train  ridge_test  ridge_cv_train  \\\n",
       "rmse     1.715727    1.865155     1.717654    1.858159        2.004403   \n",
       "mae      1.167580    1.216226     1.168677    1.211429        1.223111   \n",
       "mse      2.943721    3.478804     2.950336    3.452756        4.017632   \n",
       "R2       0.888652    0.848981     0.888402    0.850112        0.848030   \n",
       "\n",
       "      ridge_cv_test  lasso_train  lasso_test  lasso_cv_train  lasso_cv_test  \\\n",
       "rmse       1.858159     2.004403    2.154180        1.718146       1.853941   \n",
       "mae        1.211429     1.223111    1.471429        1.164409       1.207644   \n",
       "mse        3.452756     4.017632    4.640490        2.952026       3.437098   \n",
       "R2         0.850112     0.848030    0.798551        0.888338       0.850792   \n",
       "\n",
       "      elastic_train  elastic_test  \n",
       "rmse       1.981027      2.098736  \n",
       "mae        1.219141      1.423429  \n",
       "mse        3.924469      4.404693  \n",
       "R2         0.851554      0.808787  "
      ]
     },
     "execution_count": 88,
     "metadata": {},
     "output_type": "execute_result"
    }
   ],
   "source": [
    "pd.concat([ls,rs, rcs, lss, lcs, es], axis = 1)"
   ]
  },
  {
   "cell_type": "code",
   "execution_count": 89,
   "metadata": {},
   "outputs": [
    {
     "data": {
      "text/plain": [
       "array([ 3.36735713e-01,  5.07832721e-01, -4.21808778e-06, -0.00000000e+00,\n",
       "        0.00000000e+00, -0.00000000e+00, -0.00000000e+00, -0.00000000e+00])"
      ]
     },
     "execution_count": 89,
     "metadata": {},
     "output_type": "execute_result"
    }
   ],
   "source": [
    "elastic_model.coef_"
   ]
  },
  {
   "cell_type": "code",
   "execution_count": 90,
   "metadata": {},
   "outputs": [],
   "source": [
    "elastic_cv_model = ElasticNetCV(alphas = alpha_space, l1_ratio=[0.1, 0.5, 0.7,0.9, 0.95, 1], cv = 10, max_iter = 100000)"
   ]
  },
  {
   "cell_type": "code",
   "execution_count": 91,
   "metadata": {},
   "outputs": [
    {
     "data": {
      "text/plain": [
       "ElasticNetCV(alphas=array([0.01, 0.02, 0.03, 0.04, 0.05, 0.06, 0.07, 0.08, 0.09, 0.1 , 0.11,\n",
       "       0.12, 0.13, 0.14, 0.15, 0.16, 0.17, 0.18, 0.19, 0.2 , 0.21, 0.22,\n",
       "       0.23, 0.24, 0.25, 0.26, 0.27, 0.28, 0.29, 0.3 , 0.31, 0.32, 0.33,\n",
       "       0.34, 0.35, 0.36, 0.37, 0.38, 0.39, 0.4 , 0.41, 0.42, 0.43, 0.44,\n",
       "       0.45, 0.46, 0.47, 0.48, 0.49, 0.5 , 0.51, 0.52, 0.53, 0.54, 0.55,\n",
       "       0.56, 0.57, 0.58, 0.59, 0.6 , 0.61, 0.62, 0.63, 0.64, 0.65, 0.66,\n",
       "       0.67, 0.68, 0.69, 0.7 , 0.71, 0.72, 0.73, 0.74, 0.75, 0.76, 0.77,\n",
       "       0.78, 0.79, 0.8 , 0.81, 0.82, 0.83, 0.84, 0.85, 0.86, 0.87, 0.88,\n",
       "       0.89, 0.9 , 0.91, 0.92, 0.93, 0.94, 0.95, 0.96, 0.97, 0.98, 0.99,\n",
       "       1.  ]),\n",
       "             cv=10, l1_ratio=[0.1, 0.5, 0.7, 0.9, 0.95, 1], max_iter=100000)"
      ]
     },
     "execution_count": 91,
     "metadata": {},
     "output_type": "execute_result"
    }
   ],
   "source": [
    "elastic_cv_model.fit(X_train, y_train)"
   ]
  },
  {
   "cell_type": "code",
   "execution_count": 92,
   "metadata": {},
   "outputs": [
    {
     "data": {
      "text/plain": [
       "0.01"
      ]
     },
     "execution_count": 92,
     "metadata": {},
     "output_type": "execute_result"
    }
   ],
   "source": [
    "elastic_cv_model.alpha_"
   ]
  },
  {
   "cell_type": "code",
   "execution_count": 93,
   "metadata": {},
   "outputs": [
    {
     "data": {
      "text/plain": [
       "0.1"
      ]
     },
     "execution_count": 93,
     "metadata": {},
     "output_type": "execute_result"
    }
   ],
   "source": [
    "elastic_cv_model.l1_ratio_"
   ]
  },
  {
   "cell_type": "code",
   "execution_count": 94,
   "metadata": {},
   "outputs": [
    {
     "data": {
      "text/plain": [
       "array([ 3.61098933e-01,  4.35282527e-01, -5.77786608e-06, -7.90429588e-01,\n",
       "        1.34743816e+00, -3.51942317e-01, -1.10663428e+00, -1.46915499e+00])"
      ]
     },
     "execution_count": 94,
     "metadata": {},
     "output_type": "execute_result"
    }
   ],
   "source": [
    "elastic_cv_model.coef_"
   ]
  },
  {
   "cell_type": "code",
   "execution_count": 95,
   "metadata": {},
   "outputs": [
    {
     "name": "stdout",
     "output_type": "stream",
     "text": [
      "Model testing performance:\n",
      "--------------------------\n",
      "R2_score \t: 0.8880761796379941\n",
      "MAE \t\t: 1.1657103295824867\n",
      "MSE \t\t: 2.958936399719828\n",
      "RMSE \t\t: 1.7201559230836685\n"
     ]
    }
   ],
   "source": [
    "y_train_pred = elastic_cv_model.predict(X_train)\n",
    "eval_metrics(y_train, y_train_pred)"
   ]
  },
  {
   "cell_type": "code",
   "execution_count": 96,
   "metadata": {},
   "outputs": [
    {
     "name": "stdout",
     "output_type": "stream",
     "text": [
      "Model testing performance:\n",
      "--------------------------\n",
      "R2_score \t: 0.8511003814665743\n",
      "MAE \t\t: 1.206497770003033\n",
      "MSE \t\t: 3.429989747765704\n",
      "RMSE \t\t: 1.8520231499000503\n"
     ]
    }
   ],
   "source": [
    "y_pred = elastic_cv_model.predict(X_test)\n",
    "eval_metrics(y_test, y_pred)"
   ]
  },
  {
   "cell_type": "code",
   "execution_count": 97,
   "metadata": {},
   "outputs": [
    {
     "data": {
      "text/html": [
       "<div>\n",
       "<style scoped>\n",
       "    .dataframe tbody tr th:only-of-type {\n",
       "        vertical-align: middle;\n",
       "    }\n",
       "\n",
       "    .dataframe tbody tr th {\n",
       "        vertical-align: top;\n",
       "    }\n",
       "\n",
       "    .dataframe thead th {\n",
       "        text-align: right;\n",
       "    }\n",
       "</style>\n",
       "<table border=\"1\" class=\"dataframe\">\n",
       "  <thead>\n",
       "    <tr style=\"text-align: right;\">\n",
       "      <th></th>\n",
       "      <th>elastic_cv_train</th>\n",
       "      <th>elastic_cv_test</th>\n",
       "    </tr>\n",
       "  </thead>\n",
       "  <tbody>\n",
       "    <tr>\n",
       "      <th>rmse</th>\n",
       "      <td>1.720156</td>\n",
       "      <td>1.852023</td>\n",
       "    </tr>\n",
       "    <tr>\n",
       "      <th>mae</th>\n",
       "      <td>1.165710</td>\n",
       "      <td>1.206498</td>\n",
       "    </tr>\n",
       "    <tr>\n",
       "      <th>mse</th>\n",
       "      <td>2.958936</td>\n",
       "      <td>3.429990</td>\n",
       "    </tr>\n",
       "    <tr>\n",
       "      <th>R2</th>\n",
       "      <td>0.888076</td>\n",
       "      <td>0.851100</td>\n",
       "    </tr>\n",
       "  </tbody>\n",
       "</table>\n",
       "</div>"
      ],
      "text/plain": [
       "      elastic_cv_train  elastic_cv_test\n",
       "rmse          1.720156         1.852023\n",
       "mae           1.165710         1.206498\n",
       "mse           2.958936         3.429990\n",
       "R2            0.888076         0.851100"
      ]
     },
     "execution_count": 97,
     "metadata": {},
     "output_type": "execute_result"
    }
   ],
   "source": [
    "elastic_cv_scores = {\"elastic_cv_train\": {\"rmse\" : np.sqrt(mean_squared_error(y_train, y_train_pred)),\n",
    "    \"mae\" : mean_absolute_error(y_train, y_train_pred),\n",
    "    \"mse\" : mean_squared_error(y_train, y_train_pred),\n",
    "    \"R2\" : r2_score(y_train, y_train_pred)}, \n",
    "\n",
    "    \"elastic_cv_test\": {\"rmse\" : np.sqrt(mean_squared_error(y_test, y_pred)),\n",
    "    \"mae\" : mean_absolute_error(y_test, y_pred),\n",
    "    \"mse\" : mean_squared_error(y_test, y_pred),\n",
    "    \"R2\" : r2_score(y_test, y_pred)}}\n",
    "ecs = pd.DataFrame(elastic_cv_scores)\n",
    "ecs"
   ]
  },
  {
   "cell_type": "code",
   "execution_count": 98,
   "metadata": {},
   "outputs": [
    {
     "data": {
      "text/html": [
       "<div>\n",
       "<style scoped>\n",
       "    .dataframe tbody tr th:only-of-type {\n",
       "        vertical-align: middle;\n",
       "    }\n",
       "\n",
       "    .dataframe tbody tr th {\n",
       "        vertical-align: top;\n",
       "    }\n",
       "\n",
       "    .dataframe thead th {\n",
       "        text-align: right;\n",
       "    }\n",
       "</style>\n",
       "<table border=\"1\" class=\"dataframe\">\n",
       "  <thead>\n",
       "    <tr style=\"text-align: right;\">\n",
       "      <th></th>\n",
       "      <th>model_train</th>\n",
       "      <th>model_test</th>\n",
       "      <th>ridge_train</th>\n",
       "      <th>ridge_test</th>\n",
       "      <th>ridge_cv_train</th>\n",
       "      <th>ridge_cv_test</th>\n",
       "      <th>lasso_train</th>\n",
       "      <th>lasso_test</th>\n",
       "      <th>lasso_cv_train</th>\n",
       "      <th>lasso_cv_test</th>\n",
       "      <th>elastic_train</th>\n",
       "      <th>elastic_test</th>\n",
       "      <th>elastic_cv_train</th>\n",
       "      <th>elastic_cv_test</th>\n",
       "    </tr>\n",
       "  </thead>\n",
       "  <tbody>\n",
       "    <tr>\n",
       "      <th>rmse</th>\n",
       "      <td>1.715727</td>\n",
       "      <td>1.865155</td>\n",
       "      <td>1.717654</td>\n",
       "      <td>1.858159</td>\n",
       "      <td>2.004403</td>\n",
       "      <td>1.858159</td>\n",
       "      <td>2.004403</td>\n",
       "      <td>2.154180</td>\n",
       "      <td>1.718146</td>\n",
       "      <td>1.853941</td>\n",
       "      <td>1.981027</td>\n",
       "      <td>2.098736</td>\n",
       "      <td>1.720156</td>\n",
       "      <td>1.852023</td>\n",
       "    </tr>\n",
       "    <tr>\n",
       "      <th>mae</th>\n",
       "      <td>1.167580</td>\n",
       "      <td>1.216226</td>\n",
       "      <td>1.168677</td>\n",
       "      <td>1.211429</td>\n",
       "      <td>1.223111</td>\n",
       "      <td>1.211429</td>\n",
       "      <td>1.223111</td>\n",
       "      <td>1.471429</td>\n",
       "      <td>1.164409</td>\n",
       "      <td>1.207644</td>\n",
       "      <td>1.219141</td>\n",
       "      <td>1.423429</td>\n",
       "      <td>1.165710</td>\n",
       "      <td>1.206498</td>\n",
       "    </tr>\n",
       "    <tr>\n",
       "      <th>mse</th>\n",
       "      <td>2.943721</td>\n",
       "      <td>3.478804</td>\n",
       "      <td>2.950336</td>\n",
       "      <td>3.452756</td>\n",
       "      <td>4.017632</td>\n",
       "      <td>3.452756</td>\n",
       "      <td>4.017632</td>\n",
       "      <td>4.640490</td>\n",
       "      <td>2.952026</td>\n",
       "      <td>3.437098</td>\n",
       "      <td>3.924469</td>\n",
       "      <td>4.404693</td>\n",
       "      <td>2.958936</td>\n",
       "      <td>3.429990</td>\n",
       "    </tr>\n",
       "    <tr>\n",
       "      <th>R2</th>\n",
       "      <td>0.888652</td>\n",
       "      <td>0.848981</td>\n",
       "      <td>0.888402</td>\n",
       "      <td>0.850112</td>\n",
       "      <td>0.848030</td>\n",
       "      <td>0.850112</td>\n",
       "      <td>0.848030</td>\n",
       "      <td>0.798551</td>\n",
       "      <td>0.888338</td>\n",
       "      <td>0.850792</td>\n",
       "      <td>0.851554</td>\n",
       "      <td>0.808787</td>\n",
       "      <td>0.888076</td>\n",
       "      <td>0.851100</td>\n",
       "    </tr>\n",
       "  </tbody>\n",
       "</table>\n",
       "</div>"
      ],
      "text/plain": [
       "      model_train  model_test  ridge_train  ridge_test  ridge_cv_train  \\\n",
       "rmse     1.715727    1.865155     1.717654    1.858159        2.004403   \n",
       "mae      1.167580    1.216226     1.168677    1.211429        1.223111   \n",
       "mse      2.943721    3.478804     2.950336    3.452756        4.017632   \n",
       "R2       0.888652    0.848981     0.888402    0.850112        0.848030   \n",
       "\n",
       "      ridge_cv_test  lasso_train  lasso_test  lasso_cv_train  lasso_cv_test  \\\n",
       "rmse       1.858159     2.004403    2.154180        1.718146       1.853941   \n",
       "mae        1.211429     1.223111    1.471429        1.164409       1.207644   \n",
       "mse        3.452756     4.017632    4.640490        2.952026       3.437098   \n",
       "R2         0.850112     0.848030    0.798551        0.888338       0.850792   \n",
       "\n",
       "      elastic_train  elastic_test  elastic_cv_train  elastic_cv_test  \n",
       "rmse       1.981027      2.098736          1.720156         1.852023  \n",
       "mae        1.219141      1.423429          1.165710         1.206498  \n",
       "mse        3.924469      4.404693          2.958936         3.429990  \n",
       "R2         0.851554      0.808787          0.888076         0.851100  "
      ]
     },
     "execution_count": 98,
     "metadata": {},
     "output_type": "execute_result"
    }
   ],
   "source": [
    "pd.concat([ls,rs, rcs, lss, lcs, es, ecs], axis = 1)"
   ]
  },
  {
   "cell_type": "code",
   "execution_count": null,
   "metadata": {},
   "outputs": [],
   "source": [
    "yüzde 10 lasso yüzde 90 ridge... Elastic model. "
   ]
  },
  {
   "cell_type": "code",
   "execution_count": null,
   "metadata": {},
   "outputs": [],
   "source": []
  }
 ],
 "metadata": {
  "colab": {
   "name": "used_car_price_prediction_assignment1.ipynb",
   "provenance": []
  },
  "kernelspec": {
   "display_name": "Python 3",
   "language": "python",
   "name": "python3"
  },
  "language_info": {
   "codemirror_mode": {
    "name": "ipython",
    "version": 3
   },
   "file_extension": ".py",
   "mimetype": "text/x-python",
   "name": "python",
   "nbconvert_exporter": "python",
   "pygments_lexer": "ipython3",
   "version": "3.8.8"
  }
 },
 "nbformat": 4,
 "nbformat_minor": 1
}
